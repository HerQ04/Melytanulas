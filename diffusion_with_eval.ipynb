{
  "cells": [
    {
      "cell_type": "markdown",
      "metadata": {
        "id": "c5a94671"
      },
      "source": [
        "<h1>\n",
        "\tThe Annotated Diffusion Model\n",
        "</h1>\n",
        "\n",
        "\n",
        "<div class=\"author-card\">\n",
        "    <a href=\"/nielsr\">\n",
        "        <img class=\"avatar avatar-user\" src=\"https://avatars.githubusercontent.com/u/48327001?v=4\" width=\"100\" title=\"Gravatar\">\n",
        "        <div class=\"bfc\">\n",
        "            <code>nielsr</code>\n",
        "            <span class=\"fullname\">Niels Rogge</span>\n",
        "        </div>\n",
        "    </a>\n",
        "    <a href=\"/kashif\">\n",
        "        <img class=\"avatar avatar-user\" src=\"https://avatars.githubusercontent.com/u/8100?v=4\" width=\"100\" title=\"Gravatar\">\n",
        "        <div class=\"bfc\">\n",
        "            <code>kashif</code>\n",
        "            <span class=\"fullname\">Kashif Rasul</span>\n",
        "        </div>\n",
        "    </a>\n",
        "    \n",
        "</div>\n",
        "\n",
        "<script async defer src=\"https://unpkg.com/medium-zoom-element@0/dist/medium-zoom-element.min.js\"></script>\n",
        "\n"
      ],
      "id": "c5a94671"
    },
    {
      "cell_type": "markdown",
      "metadata": {
        "id": "290edb0b"
      },
      "source": [
        "In this blog post, we'll take a deeper look into **Denoising Diffusion Probabilistic Models** (also known as DDPMs, diffusion models, score-based generative models or simply [autoencoders](https://benanne.github.io/2022/01/31/diffusion.html)) as researchers have been able to achieve remarkable results with them for (un)conditional image/audio/video generation. Popular examples (at the time of writing) include [GLIDE](https://arxiv.org/abs/2112.10741) and [DALL-E 2](https://openai.com/dall-e-2/) by OpenAI, [Latent Diffusion](https://github.com/CompVis/latent-diffusion) by the University of Heidelberg and [ImageGen](https://imagen.research.google/) by Google Brain.\n",
        "\n",
        "We'll go over the original DDPM paper by ([Ho et al., 2020](https://arxiv.org/abs/2006.11239)), implementing it step-by-step in PyTorch, based on Phil Wang's [implementation](https://github.com/lucidrains/denoising-diffusion-pytorch) - which itself is based on the [original TensorFlow implementation](https://github.com/hojonathanho/diffusion). Note that the idea of diffusion for generative modeling was actually already introduced in ([Sohl-Dickstein et al., 2015](https://arxiv.org/abs/1503.03585)). However, it took until ([Song et al., 2019](https://arxiv.org/abs/1907.05600)) (at Stanford University), and then ([Ho et al., 2020](https://arxiv.org/abs/2006.11239)) (at Google Brain) who independently improved the approach.\n",
        "\n",
        "Note that there are [several perspectives](https://twitter.com/sedielem/status/1530894256168222722?s=20&t=mfv4afx1GcNQU5fZklpACw) on diffusion models. Here, we employ the discrete-time (latent variable model) perspective, but be sure to check out the other perspectives as well."
      ],
      "id": "290edb0b"
    },
    {
      "cell_type": "markdown",
      "metadata": {
        "id": "yVijwSUfKhfY"
      },
      "source": [
        "Alright, let's dive in!"
      ],
      "id": "yVijwSUfKhfY"
    },
    {
      "cell_type": "markdown",
      "metadata": {
        "id": "M7G7djASKdWg"
      },
      "source": [
        "<p align=\"center\">\n",
        "<img src='https://drive.google.com/uc?id=11C3cBUfz7_vrkj_4CWCyePaQyr-0m85_' width=500>\n",
        "</p>\n",
        "\n",
        "We'll install and import the required libraries first (assuming you have [PyTorch](https://pytorch.org/) installed)."
      ],
      "id": "M7G7djASKdWg"
    },
    {
      "cell_type": "code",
      "execution_count": 2,
      "metadata": {
        "id": "a1f2d714"
      },
      "outputs": [],
      "source": [
        "!pip install -q -U einops datasets matplotlib tqdm\n",
        "\n",
        "import math\n",
        "from inspect import isfunction\n",
        "from functools import partial\n",
        "\n",
        "%matplotlib inline\n",
        "import matplotlib.pyplot as plt\n",
        "from tqdm.auto import tqdm\n",
        "from einops import rearrange\n",
        "\n",
        "import torch\n",
        "from torch import nn, einsum\n",
        "import torch.nn.functional as F"
      ],
      "id": "a1f2d714"
    },
    {
      "cell_type": "markdown",
      "metadata": {
        "id": "6fe49a34"
      },
      "source": [
        "\n",
        "## What is a diffusion model?\n",
        "\n",
        "A (denoising) diffusion model isn't that complex if you compare it to other generative models such as Normalizing Flows, GANs or VAEs: they all convert noise from some simple distribution to a data sample. This is also the case here where **a neural network learns to gradually denoise data** starting from pure noise.\n",
        "\n",
        "In a bit more detail for images, the set-up consists of 2 processes:\n",
        "* a fixed (or predefined) forward diffusion process $q$ of our choosing, that gradually adds Gaussian noise to an image, until you end up with pure noise\n",
        "* a learned reverse denoising diffusion process $p_\\theta$, where a neural network is trained to gradually denoise an image starting from pure noise, until you end up with an actual image.\n",
        "\n",
        "<p align=\"center\">\n",
        "    <img src=\"https://drive.google.com/uc?id=1t5dUyJwgy2ZpDAqHXw7GhUAp2FE5BWHA\" width=\"600\" />\n",
        "</p>\n",
        "\n",
        "Both the forward and reverse process indexed by \\\\(t\\\\) happen for some number of finite time steps \\\\(T\\\\) (the DDPM authors use \\\\(T=1000\\\\)). You start with \\\\(t=0\\\\) where you sample a real image \\\\(\\mathbf{x}_0\\\\) from your data distribution (let's say an image of a cat from ImageNet), and the forward process samples some noise from a Gaussian distribution at each time step \\\\(t\\\\), which is added to the image of the previous time step. Given a sufficiently large \\\\(T\\\\) and a well behaved schedule for adding noise at each time step, you end up with what is called an [isotropic Gaussian distribution](https://math.stackexchange.com/questions/1991961/gaussian-distribution-is-isotropic) at \\\\(t=T\\\\) via a gradual process.\n",
        "\n",
        "## In more mathematical form\n",
        "\n",
        "Let's write this down more formally, as ultimately we need a tractable loss function which our neural network needs to optimize.\n",
        "\n",
        "Let \\\\(q(\\mathbf{x}_0)\\\\) be the real data distribution, say of \"real images\". We can sample from this distribution to get an image, \\\\(\\mathbf{x}_0 \\sim q(\\mathbf{x}_0)\\\\). We define the forward diffusion process \\\\(q(\\mathbf{x}_t | \\mathbf{x}_{t-1})\\\\) which adds Gaussian noise at each time step \\\\(t\\\\), according to a known variance schedule \\\\(0 < \\beta_1 < \\beta_2 < ... < \\beta_T < 1\\\\) as\n",
        "$$\n",
        "q(\\mathbf{x}_t | \\mathbf{x}_{t-1}) = \\mathcal{N}(\\mathbf{x}_t; \\sqrt{1 - \\beta_t} \\mathbf{x}_{t-1}, \\beta_t \\mathbf{I}).\n",
        "$$\n",
        "\n",
        "Recall that a normal distribution (also called Gaussian distribution) is defined by 2 parameters: a mean \\\\(\\mu\\\\) and a variance \\\\(\\sigma^2 \\geq 0\\\\). Basically, each new (slightly noiser) image at time step \\\\(t\\\\) is drawn from a **conditional Gaussian distribution** with \\\\(\\mathbf{\\mu}_t = \\sqrt{1 - \\beta_t} \\mathbf{x}_{t-1}\\\\) and \\\\(\\sigma^2_t = \\beta_t\\\\), which we can do by sampling \\\\(\\mathbf{\\epsilon} \\sim \\mathcal{N}(\\mathbf{0}, \\mathbf{I})\\\\) and then setting \\\\(\\mathbf{x}_t = \\sqrt{1 - \\beta_t} \\mathbf{x}_{t-1} +  \\sqrt{\\beta_t} \\mathbf{\\epsilon}\\\\).\n",
        "\n",
        "Note that the \\\\(\\beta_t\\\\) aren't constant at each time step \\\\(t\\\\) (hence the subscript) --- in fact one defines a so-called **\"variance schedule\"**, which can be linear, quadratic, cosine, etc. as we will see further (a bit like a learning rate schedule).\n",
        "\n",
        "So starting from \\\\(\\mathbf{x}_0\\\\), we end up with \\\\(\\mathbf{x}_1,  ..., \\mathbf{x}_t, ..., \\mathbf{x}_T\\\\), where \\\\(\\mathbf{x}_T\\\\) is pure Gaussian noise if we set the schedule appropriately.\n",
        "\n",
        "Now, if we knew the conditional distribution \\\\(p(\\mathbf{x}_{t-1} | \\mathbf{x}_t)\\\\), then we could run the process in reverse: by sampling some random Gaussian noise \\\\(\\mathbf{x}_T\\\\), and then gradually \"denoise\" it so that we end up with a sample from the real distribution \\\\(\\mathbf{x}_0\\\\).\n",
        "\n",
        "However, we don't know \\\\(p(\\mathbf{x}_{t-1} | \\mathbf{x}_t)\\\\). It's intractable since it requires knowing the distribution of all possible images in order to calculate this conditional probability. Hence, we're going to leverage a neural network to **approximate (learn) this conditional probability distribution**, let's call it \\\\(p_\\theta (\\mathbf{x}_{t-1} | \\mathbf{x}_t)\\\\), with \\\\(\\theta\\\\) being the parameters of the neural network, updated by gradient descent.\n",
        "\n",
        "Ok, so we need a neural network to represent a (conditional) probability distribution of the backward process. If we assume this reverse process is Gaussian as well, then recall that any Gaussian distribution is defined by 2 parameters:\n",
        "* a mean parametrized by \\\\(\\mu_\\theta\\\\);\n",
        "* a variance parametrized by \\\\(\\Sigma_\\theta\\\\);\n",
        "\n",
        "so we can parametrize the process as\n",
        "$$ p_\\theta (\\mathbf{x}_{t-1} | \\mathbf{x}_t) = \\mathcal{N}(\\mathbf{x}_{t-1}; \\mu_\\theta(\\mathbf{x}_{t},t), \\Sigma_\\theta (\\mathbf{x}_{t},t))$$\n",
        "where the mean and variance are also conditioned on the noise level \\\\(t\\\\)."
      ],
      "id": "6fe49a34"
    },
    {
      "cell_type": "markdown",
      "metadata": {
        "id": "2d747688"
      },
      "source": [
        "Hence, our neural network needs to learn/represent the mean and variance. However, the DDPM authors decided to **keep the variance fixed, and let the neural network only learn (represent) the mean \\\\(\\mu_\\theta\\\\) of this conditional probability distribution**. From the paper:\n",
        "\n",
        "> First, we set \\\\(\\Sigma_\\theta ( \\mathbf{x}_t, t) = \\sigma^2_t \\mathbf{I}\\\\) to untrained time dependent constants. Experimentally, both \\\\(\\sigma^2_t = \\beta_t\\\\) and \\\\(\\sigma^2_t  = \\tilde{\\beta}_t\\\\) (see paper) had similar results.\n",
        "\n",
        "This was then later improved in the [Improved diffusion models](https://openreview.net/pdf?id=-NEXDKk8gZ) paper, where a neural network also learns the variance of this backwards process, besides the mean.\n",
        "\n",
        "So we continue, assuming that our neural network only needs to learn/represent the mean of this conditional probability distribution.\n",
        "\n",
        "## Defining an objective function (by reparametrizing the mean)\n",
        "\n",
        "To derive an objective function to learn the mean of the backward process, the authors observe that the combination of \\\\(q\\\\) and \\\\(p_\\theta\\\\) can be seen as a variational auto-encoder (VAE) [(Kingma et al., 2013)](https://arxiv.org/abs/1312.6114). Hence, the **variational lower bound** (also called ELBO) can be used to minimize the negative log-likelihood with respect to ground truth data sample \\\\(\\mathbf{x}_0\\\\) (we refer to the VAE paper for details regarding ELBO). It turns out that the ELBO for this process is a sum of losses at each time step \\\\(t\\\\), \\\\(L = L_0 + L_1 + ... + L_T\\\\). By construction of the forward \\\\(q\\\\) process and backward process, each term (except for \\\\(L_0\\\\)) of the loss is actually the **KL divergence between 2 Gaussian distributions** which can be written explicitly as an L2-loss with respect to the means!\n",
        "\n",
        "A direct consequence of the constructed forward process \\\\(q\\\\), as shown by Sohl-Dickstein et al., is that we can sample \\\\(\\mathbf{x}_t\\\\) at any arbitrary noise level conditioned on \\\\(\\mathbf{x}_0\\\\) (since sums of Gaussians is also Gaussian). This is very convenient:  we don't need to apply \\\\(q\\\\) repeatedly in order to sample \\\\(\\mathbf{x}_t\\\\).\n",
        "We have that\n",
        "$$q(\\mathbf{x}_t | \\mathbf{x}_0) = \\cal{N}(\\mathbf{x}_t; \\sqrt{\\bar{\\alpha}_t} \\mathbf{x}_0, (1- \\bar{\\alpha}_t) \\mathbf{I})$$\n",
        "\n",
        "with \\\\(\\alpha_t := 1 - \\beta_t\\\\) and \\\\(\\bar{\\alpha}t := \\Pi_{s=1}^{t} \\alpha_s\\\\). Let's refer to this equation as the \"nice property\". This means we can sample Gaussian noise and scale it appropriatly and add it to \\\\(\\mathbf{x}_0\\\\) to get \\\\(\\mathbf{x}_t\\\\) directly. Note that the \\\\(\\bar{\\alpha}_t\\\\) are functions of the known \\\\(\\beta_t\\\\) variance schedule and thus are also known and can be precomputed. This then allows us, during training, to **optimize random terms of the loss function \\\\(L\\\\)** (or in other words, to randomly sample \\\\(t\\\\) during training and optimize \\\\(L_t\\\\)."
      ],
      "id": "2d747688"
    },
    {
      "cell_type": "markdown",
      "metadata": {
        "id": "68574c28"
      },
      "source": [
        "Another beauty of this property, as shown in Ho et al. is that one can (after some math, for which we refer the reader to [this excellent blog post](https://lilianweng.github.io/posts/2021-07-11-diffusion-models/)) instead **reparametrize the mean to make the neural network learn (predict) the added noise (via a network \\\\(\\mathbf{\\epsilon}_\\theta(\\mathbf{x}_t, t)\\\\) for noise level \\\\(t\\\\)** in the KL terms which constitute the losses. This means that our neural network becomes a noise predictor, rather than a (direct) mean predictor. The mean can be computed as follows:\n",
        "\n",
        "$$ \\mathbf{\\mu}_\\theta(\\mathbf{x}_t, t) = \\frac{1}{\\sqrt{\\alpha_t}} \\left(  \\mathbf{x}_t - \\frac{\\beta_t}{\\sqrt{1- \\bar{\\alpha}_t}} \\mathbf{\\epsilon}_\\theta(\\mathbf{x}_t, t) \\right)$$\n",
        "\n",
        "The final objective function \\\\(L_t\\\\) then looks as follows (for a random time step \\\\(t\\\\) given \\\\(\\mathbf{\\epsilon} \\sim \\mathcal{N}(\\mathbf{0}, \\mathbf{I})\\\\) ):\n",
        "\n",
        "$$ \\| \\mathbf{\\epsilon} - \\mathbf{\\epsilon}_\\theta(\\mathbf{x}_t, t) \\|^2 = \\| \\mathbf{\\epsilon} - \\mathbf{\\epsilon}_\\theta( \\sqrt{\\bar{\\alpha}_t} \\mathbf{x}_0 + \\sqrt{(1- \\bar{\\alpha}_t)  } \\mathbf{\\epsilon}, t) \\|^2.$$"
      ],
      "id": "68574c28"
    },
    {
      "cell_type": "markdown",
      "metadata": {
        "id": "5153024b"
      },
      "source": [
        "Here, \\\\(\\mathbf{x}_0\\\\) is the initial (real, uncorruped) image, and we see the direct noise level \\\\(t\\\\) sample given by the fixed forward process. \\\\(\\mathbf{\\epsilon}\\\\) is the pure noise sampled at time step \\\\(t\\\\), and \\\\(\\mathbf{\\epsilon}_\\theta (\\mathbf{x}_t, t)\\\\) is our neural network. The neural network is optimized using a simple mean squared error (MSE) between the true and the predicted Gaussian noise.\n",
        "\n",
        "The training algorithm now looks as follows:\n",
        "\n",
        "\n",
        "<p align=\"center\">\n",
        "    <img src=\"https://drive.google.com/uc?id=1LJsdkZ3i1J32lmi9ONMqKFg5LMtpSfT4\" width=\"400\" />\n",
        "</p>\n",
        "\n",
        "In other words:\n",
        "* we take a random sample $\\mathbf{x}_0$ from the real unknown and possibily complex data distribution $q(\\mathbf{x}_0)$\n",
        "* we sample a noise level $t$ uniformally between $1$ and $T$ (i.e., a random time step)\n",
        "* we sample some noise from a Gaussian distribution and corrupt the input by this noise at level $t$ using the nice property defined above\n",
        "* the neural network is trained to predict this noise based on the corruped image $\\mathbf{x}_t$, i.e. noise applied on $\\mathbf{x}_0$ based on known schedule $\\beta_t$\n",
        "\n",
        "In reality, all of this is done on batches of data as one uses stochastic gradient descent to optimize neural networks.\n",
        "\n",
        "## The neural network\n",
        "\n",
        "The neural network needs to take in a noised image at a particular time step and return the predicted noise. Note that the predicted noise is a tensor that has the same size/resolution as the input image. So technically, the network takes in and outputs tensors of the same shape. What type of neural network can we use for this?\n",
        "\n",
        "What is typically used here is very similar to that of an [Autoencoder](https://en.wikipedia.org/wiki/Autoencoder), which you may remember from typical \"intro to deep learning\" tutorials. Autoencoders have a so-called \"bottleneck\" layer in between the encoder and decoder. The encoder first encodes an image into a smaller hidden representation called the \"bottleneck\", and the decoder then decodes that hidden representation back into an actual image. This forces the network to only keep the most important information in the bottleneck layer.\n",
        "\n",
        "In terms of architecture, the DDPM authors went for a **U-Net**, introduced by ([Ronneberger et al., 2015](https://arxiv.org/abs/1505.04597)) (which, at the time, achieved state-of-the-art results for medical image segmentation). This network, like any autoencoder, consists of a bottleneck in the middle that makes sure the network learns only the most important information. Importantly, it introduced residual connections between the encoder and decoder, greatly improving gradient flow (inspired by ResNet in [He et al., 2015](https://arxiv.org/abs/1512.03385)).\n",
        "\n",
        "<p align=\"center\">\n",
        "    <img src=\"https://drive.google.com/uc?id=1_Hej_VTgdUWGsxxIuyZACCGjpbCGIUi6\" width=\"400\" />\n",
        "</p>\n",
        "\n",
        "As can be seen, a U-Net model first downsamples the input (i.e. makes the input smaller in terms of spatial resolution), after which upsampling is performed.\n",
        "\n",
        "Below, we implement this network, step-by-step.\n",
        "\n",
        "### Network helpers\n",
        "\n",
        "First, we define some helper functions and classes which will be used when implementing the neural network. Importantly, we define a `Residual` module, which simply adds the input to the output of a particular function (in other words, adds a residual connection to a particular function).\n",
        "\n",
        "We also define aliases for the up- and downsampling operations."
      ],
      "id": "5153024b"
    },
    {
      "cell_type": "code",
      "execution_count": 3,
      "metadata": {
        "id": "68907f5d"
      },
      "outputs": [],
      "source": [
        "def exists(x):\n",
        "    return x is not None\n",
        "\n",
        "def default(val, d):\n",
        "    if exists(val):\n",
        "        return val\n",
        "    return d() if isfunction(d) else d\n",
        "\n",
        "class Residual(nn.Module):\n",
        "    def __init__(self, fn):\n",
        "        super().__init__()\n",
        "        self.fn = fn\n",
        "\n",
        "    def forward(self, x, *args, **kwargs):\n",
        "        return self.fn(x, *args, **kwargs) + x\n",
        "\n",
        "def Upsample(dim):\n",
        "    return nn.ConvTranspose2d(dim, dim, 4, 2, 1)\n",
        "\n",
        "def Downsample(dim):\n",
        "    return nn.Conv2d(dim, dim, 4, 2, 1)"
      ],
      "id": "68907f5d"
    },
    {
      "cell_type": "markdown",
      "metadata": {
        "id": "592aa765"
      },
      "source": [
        "### Position embeddings\n",
        "\n",
        "As the parameters of the neural network are shared across time (noise level), the authors employ sinusoidal position embeddings to encode $t$, inspired by the Transformer ([Vaswani et al., 2017](https://arxiv.org/abs/1706.03762)). This makes the neural network \"know\" at which particular time step (noise level) it is operating, for every image in a batch.\n",
        "\n",
        "The `SinusoidalPositionEmbeddings` module takes a tensor of shape `(batch_size, 1)` as input (i.e. the noise levels of several noisy images in a batch), and turns this into a tensor of shape `(batch_size, dim)`, with `dim` being the dimensionality of the position embeddings. This is then added to each residual block, as we will see further."
      ],
      "id": "592aa765"
    },
    {
      "cell_type": "code",
      "execution_count": 4,
      "metadata": {
        "id": "5ed0757b"
      },
      "outputs": [],
      "source": [
        "class SinusoidalPositionEmbeddings(nn.Module):\n",
        "    def __init__(self, dim):\n",
        "        super().__init__()\n",
        "        self.dim = dim\n",
        "\n",
        "    def forward(self, time):\n",
        "        device = time.device\n",
        "        half_dim = self.dim // 2\n",
        "        embeddings = math.log(10000) / (half_dim - 1)\n",
        "        embeddings = torch.exp(torch.arange(half_dim, device=device) * -embeddings)\n",
        "        embeddings = time[:, None] * embeddings[None, :]\n",
        "        embeddings = torch.cat((embeddings.sin(), embeddings.cos()), dim=-1)\n",
        "        return embeddings\n",
        "\n",
        "#ITT"
      ],
      "id": "5ed0757b"
    },
    {
      "cell_type": "markdown",
      "metadata": {
        "id": "9ff47fbb"
      },
      "source": [
        "### ResNet/ConvNeXT block\n",
        "\n",
        "Next, we define the core building block of the U-Net model. The DDPM authors employed a Wide ResNet block ([Zagoruyko et al., 2016](https://arxiv.org/abs/1605.07146)), but Phil Wang decided to also add support for a ConvNeXT block ([Liu et al., 2022](https://arxiv.org/abs/2201.03545)), as the latter has achieved great success in the image domain. One can choose one or another in the final U-Net architecture."
      ],
      "id": "9ff47fbb"
    },
    {
      "cell_type": "code",
      "execution_count": 5,
      "metadata": {
        "id": "2c2d1219"
      },
      "outputs": [],
      "source": [
        "class Block(nn.Module):\n",
        "    def __init__(self, dim, dim_out, groups = 8):\n",
        "        super().__init__()\n",
        "        self.proj = nn.Conv2d(dim, dim_out, 3, padding = 1)\n",
        "        self.norm = nn.GroupNorm(groups, dim_out)\n",
        "        self.act = nn.SiLU()\n",
        "\n",
        "    def forward(self, x, scale_shift = None):\n",
        "        x = self.proj(x)\n",
        "        x = self.norm(x)\n",
        "\n",
        "        if exists(scale_shift):\n",
        "            scale, shift = scale_shift\n",
        "            x = x * (scale + 1) + shift\n",
        "\n",
        "        x = self.act(x)\n",
        "        return x\n",
        "\n",
        "class ResnetBlock(nn.Module):\n",
        "    \"\"\"https://arxiv.org/abs/1512.03385\"\"\"\n",
        "\n",
        "    def __init__(self, dim, dim_out, *, time_emb_dim=None, groups=8):\n",
        "        super().__init__()\n",
        "        self.mlp = (\n",
        "            nn.Sequential(nn.SiLU(), nn.Linear(time_emb_dim, dim_out))\n",
        "            if exists(time_emb_dim)\n",
        "            else None\n",
        "        )\n",
        "\n",
        "        self.block1 = Block(dim, dim_out, groups=groups)\n",
        "        self.block2 = Block(dim_out, dim_out, groups=groups)\n",
        "        self.res_conv = nn.Conv2d(dim, dim_out, 1) if dim != dim_out else nn.Identity()\n",
        "\n",
        "    def forward(self, x, time_emb=None):\n",
        "        h = self.block1(x)\n",
        "\n",
        "        if exists(self.mlp) and exists(time_emb):\n",
        "            time_emb = self.mlp(time_emb)\n",
        "            h = rearrange(time_emb, \"b c -> b c 1 1\") + h\n",
        "\n",
        "        h = self.block2(h)\n",
        "        return h + self.res_conv(x)\n",
        "\n",
        "class ConvNextBlock(nn.Module):\n",
        "    \"\"\"https://arxiv.org/abs/2201.03545\"\"\"\n",
        "\n",
        "    def __init__(self, dim, dim_out, *, time_emb_dim=None, mult=2, norm=True):\n",
        "        super().__init__()\n",
        "        self.mlp = (\n",
        "            nn.Sequential(nn.GELU(), nn.Linear(time_emb_dim, dim))\n",
        "            if exists(time_emb_dim)\n",
        "            else None\n",
        "        )\n",
        "\n",
        "        self.ds_conv = nn.Conv2d(dim, dim, 7, padding=3, groups=dim)\n",
        "\n",
        "        self.net = nn.Sequential(\n",
        "            nn.GroupNorm(1, dim) if norm else nn.Identity(),\n",
        "            nn.Conv2d(dim, dim_out * mult, 3, padding=1),\n",
        "            nn.GELU(),\n",
        "            nn.GroupNorm(1, dim_out * mult),\n",
        "            nn.Conv2d(dim_out * mult, dim_out, 3, padding=1),\n",
        "        )\n",
        "\n",
        "        self.res_conv = nn.Conv2d(dim, dim_out, 1) if dim != dim_out else nn.Identity()\n",
        "\n",
        "    def forward(self, x, time_emb=None):\n",
        "        h = self.ds_conv(x)\n",
        "\n",
        "        if exists(self.mlp) and exists(time_emb):\n",
        "            assert exists(time_emb), \"time embedding must be passed in\"\n",
        "            condition = self.mlp(time_emb)\n",
        "            h = h + rearrange(condition, \"b c -> b c 1 1\")\n",
        "\n",
        "        h = self.net(h)\n",
        "        return h + self.res_conv(x)"
      ],
      "id": "2c2d1219"
    },
    {
      "cell_type": "markdown",
      "metadata": {
        "id": "51d9a24c"
      },
      "source": [
        "### Attention module\n",
        "\n",
        "Next, we define the attention module, which the DDPM authors added in between the convolutional blocks. Attention is the building block of the famous Transformer architecture ([Vaswani et al., 2017](https://arxiv.org/abs/1706.03762)), which has shown great success in various domains of AI, from NLP and vision to [protein folding](https://www.deepmind.com/blog/alphafold-a-solution-to-a-50-year-old-grand-challenge-in-biology). Phil Wang employs 2 variants of attention: one is regular multi-head self-attention (as used in the Transformer), the other one is a [linear attention variant](https://github.com/lucidrains/linear-attention-transformer) ([Shen et al., 2018](https://arxiv.org/abs/1812.01243)), whose time- and memory requirements scale linear in the sequence length, as opposed to quadratic for regular attention.\n",
        "\n",
        "For an extensive explanation of the attention mechanism, we refer the reader to Jay Allamar's [wonderful blog post](https://jalammar.github.io/illustrated-transformer/)."
      ],
      "id": "51d9a24c"
    },
    {
      "cell_type": "code",
      "execution_count": 6,
      "metadata": {
        "id": "07bbd544"
      },
      "outputs": [],
      "source": [
        "class Attention(nn.Module):\n",
        "    def __init__(self, dim, heads=4, dim_head=32):\n",
        "        super().__init__()\n",
        "        self.scale = dim_head**-0.5\n",
        "        self.heads = heads\n",
        "        hidden_dim = dim_head * heads\n",
        "        self.to_qkv = nn.Conv2d(dim, hidden_dim * 3, 1, bias=False)\n",
        "        self.to_out = nn.Conv2d(hidden_dim, dim, 1)\n",
        "\n",
        "    def forward(self, x):\n",
        "        b, c, h, w = x.shape\n",
        "        qkv = self.to_qkv(x).chunk(3, dim=1)\n",
        "        q, k, v = map(\n",
        "            lambda t: rearrange(t, \"b (h c) x y -> b h c (x y)\", h=self.heads), qkv\n",
        "        )\n",
        "        q = q * self.scale\n",
        "\n",
        "        sim = einsum(\"b h d i, b h d j -> b h i j\", q, k)\n",
        "        sim = sim - sim.amax(dim=-1, keepdim=True).detach()\n",
        "        attn = sim.softmax(dim=-1)\n",
        "\n",
        "        out = einsum(\"b h i j, b h d j -> b h i d\", attn, v)\n",
        "        out = rearrange(out, \"b h (x y) d -> b (h d) x y\", x=h, y=w)\n",
        "        return self.to_out(out)\n",
        "\n",
        "class LinearAttention(nn.Module):\n",
        "    def __init__(self, dim, heads=4, dim_head=32):\n",
        "        super().__init__()\n",
        "        self.scale = dim_head**-0.5\n",
        "        self.heads = heads\n",
        "        hidden_dim = dim_head * heads\n",
        "        self.to_qkv = nn.Conv2d(dim, hidden_dim * 3, 1, bias=False)\n",
        "\n",
        "        self.to_out = nn.Sequential(nn.Conv2d(hidden_dim, dim, 1),\n",
        "                                    nn.GroupNorm(1, dim))\n",
        "\n",
        "    def forward(self, x):\n",
        "        b, c, h, w = x.shape\n",
        "        qkv = self.to_qkv(x).chunk(3, dim=1)\n",
        "        q, k, v = map(\n",
        "            lambda t: rearrange(t, \"b (h c) x y -> b h c (x y)\", h=self.heads), qkv\n",
        "        )\n",
        "\n",
        "        q = q.softmax(dim=-2)\n",
        "        k = k.softmax(dim=-1)\n",
        "\n",
        "        q = q * self.scale\n",
        "        context = torch.einsum(\"b h d n, b h e n -> b h d e\", k, v)\n",
        "\n",
        "        out = torch.einsum(\"b h d e, b h d n -> b h e n\", context, q)\n",
        "        out = rearrange(out, \"b h c (x y) -> b (h c) x y\", h=self.heads, x=h, y=w)\n",
        "        return self.to_out(out)"
      ],
      "id": "07bbd544"
    },
    {
      "cell_type": "markdown",
      "metadata": {
        "id": "9a8031b0"
      },
      "source": [
        "### Group normalization\n",
        "\n",
        "The DDPM authors interleave the convolutional/attention layers of the U-Net with group normalization ([Wu et al., 2018](https://arxiv.org/abs/1803.08494)). Below, we define a `PreNorm` class, which will be used to apply groupnorm before the attention layer, as we'll see further. Note that there's been a [debate](https://tnq177.github.io/data/transformers_without_tears.pdf) about whether to apply normalization before or after attention in Transformers."
      ],
      "id": "9a8031b0"
    },
    {
      "cell_type": "code",
      "execution_count": 7,
      "metadata": {
        "id": "5e2ce68f"
      },
      "outputs": [],
      "source": [
        "class PreNorm(nn.Module):\n",
        "    def __init__(self, dim, fn):\n",
        "        super().__init__()\n",
        "        self.fn = fn\n",
        "        self.norm = nn.GroupNorm(1, dim)\n",
        "\n",
        "    def forward(self, x):\n",
        "        x = self.norm(x)\n",
        "        return self.fn(x)"
      ],
      "id": "5e2ce68f"
    },
    {
      "cell_type": "markdown",
      "metadata": {
        "id": "06b3fad0"
      },
      "source": [
        "### Conditional U-Net\n",
        "\n",
        "Now that we've defined all building blocks (position embeddings, ResNet/ConvNeXT blocks, attention and group normalization), it's time to define the entire neural network. Recall that the job of the network \\\\(\\mathbf{\\epsilon}_\\theta(\\mathbf{x}_t, t)\\\\) is to take in a batch of noisy images + noise levels, and output the noise added to the input. More formally:\n",
        "\n",
        "- the network takes a batch of noisy images of shape `(batch_size, num_channels, height, width)` and a batch of noise levels of shape `(batch_size, 1)` as input, and returns a tensor of shape `(batch_size, num_channels, height, width)`\n",
        "\n",
        "The network is built up as follows:\n",
        "* first, a convolutional layer is applied on the batch of noisy images, and position embeddings are computed for the noise levels\n",
        "* next, a sequence of downsampling stages are applied. Each downsampling stage consists of 2 ResNet/ConvNeXT blocks + groupnorm + attention + residual connection + a downsample operation\n",
        "* at the middle of the network, again ResNet or ConvNeXT blocks are applied, interleaved with attention\n",
        "* next, a sequence of upsampling stages are applied. Each upsampling stage consists of 2 ResNet/ConvNeXT blocks + groupnorm + attention + residual connection + an upsample operation\n",
        "* finally, a ResNet/ConvNeXT block followed by a convolutional layer is applied.\n",
        "\n",
        "Ultimately, neural networks stack up layers as if they were lego blocks (but it's important to [understand how they work](http://karpathy.github.io/2019/04/25/recipe/)).\n"
      ],
      "id": "06b3fad0"
    },
    {
      "cell_type": "code",
      "execution_count": 8,
      "metadata": {
        "id": "3a159023"
      },
      "outputs": [],
      "source": [
        "class Unet(nn.Module):\n",
        "    def __init__(\n",
        "        self,\n",
        "        dim,\n",
        "        init_dim=None,\n",
        "        out_dim=None,\n",
        "        dim_mults=(1, 2, 4, 8),\n",
        "        channels=3,\n",
        "        with_time_emb=True,\n",
        "        resnet_block_groups=8,\n",
        "        use_convnext=True,\n",
        "        convnext_mult=2,\n",
        "    ):\n",
        "        super().__init__()\n",
        "\n",
        "        # determine dimensions\n",
        "        self.channels = channels\n",
        "\n",
        "        init_dim = default(init_dim, dim // 3 * 2)\n",
        "        self.init_conv = nn.Conv2d(channels, init_dim, 7, padding=3)\n",
        "\n",
        "        dims = [init_dim, *map(lambda m: dim * m, dim_mults)]\n",
        "        in_out = list(zip(dims[:-1], dims[1:]))\n",
        "\n",
        "        if use_convnext:\n",
        "            block_klass = partial(ConvNextBlock, mult=convnext_mult)\n",
        "        else:\n",
        "            block_klass = partial(ResnetBlock, groups=resnet_block_groups)\n",
        "\n",
        "        # time embeddings\n",
        "        if with_time_emb:\n",
        "            time_dim = dim * 4\n",
        "            self.time_mlp = nn.Sequential(\n",
        "                SinusoidalPositionEmbeddings(dim),\n",
        "                nn.Linear(dim, time_dim),\n",
        "                nn.GELU(),\n",
        "                nn.Linear(time_dim, time_dim),\n",
        "            )\n",
        "        else:\n",
        "            time_dim = None\n",
        "            self.time_mlp = None\n",
        "\n",
        "        # layers\n",
        "        self.downs = nn.ModuleList([])\n",
        "        self.ups = nn.ModuleList([])\n",
        "        num_resolutions = len(in_out)\n",
        "\n",
        "        for ind, (dim_in, dim_out) in enumerate(in_out):\n",
        "            is_last = ind >= (num_resolutions - 1)\n",
        "\n",
        "            self.downs.append(\n",
        "                nn.ModuleList(\n",
        "                    [\n",
        "                        block_klass(dim_in, dim_out, time_emb_dim=time_dim),\n",
        "                        block_klass(dim_out, dim_out, time_emb_dim=time_dim),\n",
        "                        Residual(PreNorm(dim_out, LinearAttention(dim_out))),\n",
        "                        Downsample(dim_out) if not is_last else nn.Identity(),\n",
        "                    ]\n",
        "                )\n",
        "            )\n",
        "\n",
        "        mid_dim = dims[-1]\n",
        "        self.mid_block1 = block_klass(mid_dim, mid_dim, time_emb_dim=time_dim)\n",
        "        self.mid_attn = Residual(PreNorm(mid_dim, Attention(mid_dim)))\n",
        "        self.mid_block2 = block_klass(mid_dim, mid_dim, time_emb_dim=time_dim)\n",
        "\n",
        "        for ind, (dim_in, dim_out) in enumerate(reversed(in_out[1:])):\n",
        "            is_last = ind >= (num_resolutions - 1)\n",
        "\n",
        "            self.ups.append(\n",
        "                nn.ModuleList(\n",
        "                    [\n",
        "                        block_klass(dim_out * 2, dim_in, time_emb_dim=time_dim),\n",
        "                        block_klass(dim_in, dim_in, time_emb_dim=time_dim),\n",
        "                        Residual(PreNorm(dim_in, LinearAttention(dim_in))),\n",
        "                        Upsample(dim_in) if not is_last else nn.Identity(),\n",
        "                    ]\n",
        "                )\n",
        "            )\n",
        "\n",
        "        out_dim = default(out_dim, channels)\n",
        "        self.final_conv = nn.Sequential(\n",
        "            block_klass(dim, dim), nn.Conv2d(dim, out_dim, 1)\n",
        "        )\n",
        "\n",
        "    def forward(self, x, time):\n",
        "        x = self.init_conv(x)\n",
        "\n",
        "        t = self.time_mlp(time) if exists(self.time_mlp) else None\n",
        "\n",
        "        h = []\n",
        "\n",
        "        # downsample\n",
        "        for block1, block2, attn, downsample in self.downs:\n",
        "            x = block1(x, t)\n",
        "            x = block2(x, t)\n",
        "            x = attn(x)\n",
        "            h.append(x)\n",
        "            x = downsample(x)\n",
        "\n",
        "        # bottleneck\n",
        "        x = self.mid_block1(x, t)\n",
        "        x = self.mid_attn(x)\n",
        "        x = self.mid_block2(x, t)\n",
        "\n",
        "        # upsample\n",
        "        for block1, block2, attn, upsample in self.ups:\n",
        "            x = torch.cat((x, h.pop()), dim=1)\n",
        "            x = block1(x, t)\n",
        "            x = block2(x, t)\n",
        "            x = attn(x)\n",
        "            x = upsample(x)\n",
        "\n",
        "        return self.final_conv(x)"
      ],
      "id": "3a159023"
    },
    {
      "cell_type": "markdown",
      "metadata": {
        "id": "a30368b2"
      },
      "source": [
        "## Defining the forward diffusion process\n",
        "\n",
        "The forward diffusion process gradually adds noise to an image from the real distribution, in a number of time steps $T$. This happens according to a **variance schedule**. The original DDPM authors employed a linear schedule:\n",
        "\n",
        "> We set the forward process variances to constants\n",
        "increasing linearly from $\\beta_1 = 10^{−4}$\n",
        "to $\\beta_T = 0.02$.\n",
        "\n",
        "However, it was shown in ([Nichol et al., 2021](https://arxiv.org/abs/2102.09672)) that better results can be achieved when employing a cosine schedule.\n",
        "\n",
        "Below, we define various schedules for the $T$ timesteps, as well as corresponding variables which we'll need, such as cumulative variances."
      ],
      "id": "a30368b2"
    },
    {
      "cell_type": "code",
      "execution_count": 9,
      "metadata": {
        "id": "5d751df2"
      },
      "outputs": [],
      "source": [
        "def cosine_beta_schedule(timesteps, s=0.008):\n",
        "    \"\"\"\n",
        "    cosine schedule as proposed in https://arxiv.org/abs/2102.09672\n",
        "    \"\"\"\n",
        "    steps = timesteps + 1\n",
        "    x = torch.linspace(0, timesteps, steps)\n",
        "    alphas_cumprod = torch.cos(((x / timesteps) + s) / (1 + s) * torch.pi * 0.5) ** 2\n",
        "    alphas_cumprod = alphas_cumprod / alphas_cumprod[0]\n",
        "    betas = 1 - (alphas_cumprod[1:] / alphas_cumprod[:-1])\n",
        "    return torch.clip(betas, 0.0001, 0.9999)\n",
        "\n",
        "def linear_beta_schedule(timesteps):\n",
        "    beta_start = 0.0001\n",
        "    beta_end = 0.02\n",
        "    return torch.linspace(beta_start, beta_end, timesteps)\n",
        "\n",
        "def quadratic_beta_schedule(timesteps):\n",
        "    beta_start = 0.0001\n",
        "    beta_end = 0.02\n",
        "    return torch.linspace(beta_start**0.5, beta_end**0.5, timesteps) ** 2\n",
        "\n",
        "def sigmoid_beta_schedule(timesteps):\n",
        "    beta_start = 0.0001\n",
        "    beta_end = 0.02\n",
        "    betas = torch.linspace(-6, 6, timesteps)\n",
        "    return torch.sigmoid(betas) * (beta_end - beta_start) + beta_start"
      ],
      "id": "5d751df2"
    },
    {
      "cell_type": "markdown",
      "metadata": {
        "id": "6bfc3841"
      },
      "source": [
        "To start with, let's use the linear schedule for \\\\(T=200\\\\) time steps and define the various variables from the \\\\(\\beta_t\\\\) which we will need, such as the cumulative product of the variances \\\\(\\bar{\\alpha}_t\\\\). Each of the variables below are just 1-dimensional tensors, storing values from \\\\(t\\\\) to \\\\(T\\\\). Importantly, we also define an `extract` function, which will allow us to extract the appropriate \\\\(t\\\\) index for a batch of indices.\n"
      ],
      "id": "6bfc3841"
    },
    {
      "cell_type": "code",
      "execution_count": 10,
      "metadata": {
        "id": "cc57b01f"
      },
      "outputs": [],
      "source": [
        "timesteps = 200\n",
        "\n",
        "# define beta schedule\n",
        "betas = linear_beta_schedule(timesteps=timesteps)\n",
        "\n",
        "# define alphas\n",
        "alphas = 1. - betas\n",
        "alphas_cumprod = torch.cumprod(alphas, axis=0)\n",
        "alphas_cumprod_prev = F.pad(alphas_cumprod[:-1], (1, 0), value=1.0)\n",
        "sqrt_recip_alphas = torch.sqrt(1.0 / alphas)\n",
        "\n",
        "# calculations for diffusion q(x_t | x_{t-1}) and others\n",
        "sqrt_alphas_cumprod = torch.sqrt(alphas_cumprod)\n",
        "sqrt_one_minus_alphas_cumprod = torch.sqrt(1. - alphas_cumprod)\n",
        "\n",
        "# calculations for posterior q(x_{t-1} | x_t, x_0)\n",
        "posterior_variance = betas * (1. - alphas_cumprod_prev) / (1. - alphas_cumprod)\n",
        "\n",
        "def extract(a, t, x_shape):\n",
        "    batch_size = t.shape[0]\n",
        "    out = a.gather(-1, t.cpu())\n",
        "\n",
        "    return out.reshape(batch_size, *((1,) * (len(x_shape) - 1))).to(t.device)"
      ],
      "id": "cc57b01f"
    },
    {
      "cell_type": "markdown",
      "metadata": {
        "id": "48f8a004"
      },
      "source": [
        "We'll illustrate with a cats image how noise is added at each time step of the diffusion process."
      ],
      "id": "48f8a004"
    },
    {
      "cell_type": "code",
      "execution_count": 11,
      "metadata": {
        "id": "71aba861"
      },
      "outputs": [],
      "source": [
        "from torchvision.transforms import Compose, ToTensor, Lambda, ToPILImage, CenterCrop, Resize\n",
        "\n",
        "image_size = 128\n",
        "transform = Compose([\n",
        "    Resize(image_size),\n",
        "    CenterCrop(image_size),\n",
        "    ToTensor(), # turn into Numpy array of shape HWC, divide by 255\n",
        "    Lambda(lambda t: (t * 2) - 1),\n",
        "\n",
        "])\n"
      ],
      "id": "71aba861"
    },
    {
      "cell_type": "markdown",
      "metadata": {
        "id": "e143cc62"
      },
      "source": [
        "<div class=\"output stream stdout\">\n",
        "\n",
        "    Output:\n",
        "    ----------------------------------------------------------------------------------------------------\n",
        "    torch.Size([1, 3, 128, 128])\n",
        "\n",
        "</div>\n",
        "\n",
        "We also define the reverse transform, which takes in a PyTorch tensor containing values in $[-1, 1]$ and turn them back into a PIL image:"
      ],
      "id": "e143cc62"
    },
    {
      "cell_type": "code",
      "execution_count": 12,
      "metadata": {
        "id": "b98e91ff"
      },
      "outputs": [],
      "source": [
        "import numpy as np\n",
        "\n",
        "reverse_transform = Compose([\n",
        "     Lambda(lambda t: (t + 1) / 2),\n",
        "     Lambda(lambda t: t.permute(1, 2, 0)), # CHW to HWC\n",
        "     Lambda(lambda t: t * 255.),\n",
        "     Lambda(lambda t: t.numpy().astype(np.uint8)),\n",
        "     ToPILImage(),\n",
        "])"
      ],
      "id": "b98e91ff"
    },
    {
      "cell_type": "markdown",
      "metadata": {
        "id": "f6869ab7"
      },
      "source": [
        "Let's verify this:"
      ],
      "id": "f6869ab7"
    },
    {
      "cell_type": "code",
      "execution_count": 13,
      "metadata": {
        "id": "f3752480"
      },
      "outputs": [],
      "source": [
        "# forward diffusion\n",
        "def q_sample(x_start, t, noise=None):\n",
        "    if noise is None:\n",
        "        noise = torch.randn_like(x_start)\n",
        "\n",
        "    sqrt_alphas_cumprod_t = extract(sqrt_alphas_cumprod, t, x_start.shape)\n",
        "    sqrt_one_minus_alphas_cumprod_t = extract(\n",
        "        sqrt_one_minus_alphas_cumprod, t, x_start.shape\n",
        "    )\n",
        "\n",
        "    return sqrt_alphas_cumprod_t * x_start + sqrt_one_minus_alphas_cumprod_t * noise"
      ],
      "id": "f3752480"
    },
    {
      "cell_type": "markdown",
      "metadata": {
        "id": "e82bac28"
      },
      "source": [
        "Let's test it on a particular time step:"
      ],
      "id": "e82bac28"
    },
    {
      "cell_type": "code",
      "execution_count": 14,
      "metadata": {
        "id": "6bd64f89"
      },
      "outputs": [],
      "source": [
        "def get_noisy_image(x_start, t):\n",
        "  # add noise\n",
        "  x_noisy = q_sample(x_start, t=t)\n",
        "\n",
        "  # turn back into PIL image\n",
        "  noisy_image = reverse_transform(x_noisy.squeeze())\n",
        "\n",
        "  return noisy_image"
      ],
      "id": "6bd64f89"
    },
    {
      "cell_type": "code",
      "execution_count": 15,
      "metadata": {
        "id": "8e27c37d"
      },
      "outputs": [],
      "source": [
        "import matplotlib.pyplot as plt\n",
        "\n",
        "# use seed for reproducability\n",
        "torch.manual_seed(0)\n",
        "\n",
        "# source: https://pytorch.org/vision/stable/auto_examples/plot_transforms.html#sphx-glr-auto-examples-plot-transforms-py\n",
        "def plot(imgs, with_orig=False, row_title=None, **imshow_kwargs):\n",
        "    if not isinstance(imgs[0], list):\n",
        "        # Make a 2d grid even if there's just 1 row\n",
        "        imgs = [imgs]\n",
        "\n",
        "    num_rows = len(imgs)\n",
        "    num_cols = len(imgs[0]) + with_orig\n",
        "    fig, axs = plt.subplots(figsize=(200,200), nrows=num_rows, ncols=num_cols, squeeze=False)\n",
        "    for row_idx, row in enumerate(imgs):\n",
        "        row = [image] + row if with_orig else row\n",
        "        for col_idx, img in enumerate(row):\n",
        "            ax = axs[row_idx, col_idx]\n",
        "            ax.imshow(np.asarray(img), **imshow_kwargs)\n",
        "            ax.set(xticklabels=[], yticklabels=[], xticks=[], yticks=[])\n",
        "\n",
        "    if with_orig:\n",
        "        axs[0, 0].set(title='Original image')\n",
        "        axs[0, 0].title.set_size(8)\n",
        "    if row_title is not None:\n",
        "        for row_idx in range(num_rows):\n",
        "            axs[row_idx, 0].set(ylabel=row_title[row_idx])\n",
        "\n",
        "    plt.tight_layout()"
      ],
      "id": "8e27c37d"
    },
    {
      "cell_type": "code",
      "execution_count": 16,
      "metadata": {
        "id": "7725f6cf"
      },
      "outputs": [],
      "source": [
        "def p_losses(denoise_model, x_start, t, noise=None, loss_type=\"l1\"):\n",
        "    if noise is None:\n",
        "        noise = torch.randn_like(x_start)\n",
        "\n",
        "    x_noisy = q_sample(x_start=x_start, t=t, noise=noise)\n",
        "    predicted_noise = denoise_model(x_noisy, t)\n",
        "\n",
        "    if loss_type == 'l1':\n",
        "        loss = F.l1_loss(noise, predicted_noise)\n",
        "    elif loss_type == 'l2':\n",
        "        loss = F.mse_loss(noise, predicted_noise)\n",
        "    elif loss_type == \"huber\":\n",
        "        loss = F.smooth_l1_loss(noise, predicted_noise)\n",
        "    else:\n",
        "        raise NotImplementedError()\n",
        "\n",
        "    return loss"
      ],
      "id": "7725f6cf"
    },
    {
      "cell_type": "markdown",
      "metadata": {
        "id": "cc01c63b"
      },
      "source": [
        "The `denoise_model` will be our U-Net defined above. We'll employ the Huber loss between the true and the predicted noise.\n",
        "\n",
        "## Define a PyTorch Dataset + DataLoader\n",
        "\n",
        "Here we define a regular [PyTorch Dataset](https://pytorch.org/tutorials/beginner/basics/data_tutorial.html). The dataset simply consists of images from a real dataset, like Fashion-MNIST, CIFAR-10 or ImageNet, scaled linearly to \\\\([−1, 1]\\\\).\n",
        "\n",
        "Each image is resized to the same size. Interesting to note is that images are also randomly horizontally flipped. From the paper:\n",
        "\n",
        "> We used random horizontal flips during training for CIFAR10; we tried training both with and without flips, and found flips to improve sample quality slightly.\n",
        "\n",
        "Here we use the 🤗 [Datasets library](https://huggingface.co/docs/datasets/index) to easily load the Fashion MNIST dataset from the [hub](https://huggingface.co/datasets/fashion_mnist). This dataset consists of images which already have the same resolution, namely 28x28."
      ],
      "id": "cc01c63b"
    },
    {
      "cell_type": "code",
      "execution_count": 17,
      "metadata": {
        "id": "9_dpvwhTqxuz"
      },
      "outputs": [],
      "source": [
        "import torchvision\n",
        "from torchvision.datasets import ImageFolder\n",
        "import torch\n",
        "from torchvision import transforms, datasets\n",
        "import matplotlib.pyplot as plt"
      ],
      "id": "9_dpvwhTqxuz"
    },
    {
      "cell_type": "code",
      "execution_count": 18,
      "metadata": {
        "id": "utbCuti1qzNC"
      },
      "outputs": [],
      "source": [
        "dataset = torchvision.datasets.Flowers102(root='./datasetflowers', download=True)"
      ],
      "id": "utbCuti1qzNC"
    },
    {
      "cell_type": "code",
      "execution_count": 19,
      "metadata": {
        "colab": {
          "base_uri": "https://localhost:8080/"
        },
        "id": "0JirEyxnEPHS",
        "outputId": "d7b59234-632a-4dbb-e573-ccd0a4287599"
      },
      "outputs": [
        {
          "output_type": "execute_result",
          "data": {
            "text/plain": [
              "Dataset Flowers102\n",
              "    Number of datapoints: 1020\n",
              "    Root location: ./datasetflowers\n",
              "    split=train"
            ]
          },
          "metadata": {},
          "execution_count": 19
        }
      ],
      "source": [
        "dataset"
      ],
      "id": "0JirEyxnEPHS"
    },
    {
      "cell_type": "code",
      "execution_count": 20,
      "metadata": {
        "colab": {
          "base_uri": "https://localhost:8080/",
          "height": 77,
          "referenced_widgets": [
            "8ca07107f0a94ca5aace1ba4a6f62878",
            "0b6b35249c4d4d899c839da9b7786dde",
            "597097b223814283973662da8386934b",
            "e4000341799b49e08e7739dfa23a34d2",
            "ecde4693e6334224ae3bfdec0218e22d",
            "cc9c5c25c5174e9ebc0240308c626e87",
            "87bae29e2c0f486fac9df6da72b6e3fa",
            "eba4a2a3abd1476aa2149aabeec7050d",
            "838823620af94bd8a2a6a507d700d8ae",
            "a71824f613e24413b0c353a62c978411",
            "cefea56739024198a2aa0086451d5736"
          ]
        },
        "id": "6134d691",
        "outputId": "0c85b08b-febb-446e-8bf2-3090c23cb37b"
      },
      "outputs": [
        {
          "output_type": "display_data",
          "data": {
            "text/plain": [
              "Resolving data files:   0%|          | 0/16378 [00:00<?, ?it/s]"
            ],
            "application/vnd.jupyter.widget-view+json": {
              "version_major": 2,
              "version_minor": 0,
              "model_id": "8ca07107f0a94ca5aace1ba4a6f62878"
            }
          },
          "metadata": {}
        }
      ],
      "source": [
        "from datasets import load_dataset\n",
        "\n",
        "dataset = load_dataset(\"datasetflowers\")"
      ],
      "id": "6134d691"
    },
    {
      "cell_type": "code",
      "execution_count": 21,
      "metadata": {
        "colab": {
          "base_uri": "https://localhost:8080/"
        },
        "id": "ALEaqqhtERQK",
        "outputId": "1c151814-f6a3-4249-d261-34056685fdff"
      },
      "outputs": [
        {
          "output_type": "execute_result",
          "data": {
            "text/plain": [
              "DatasetDict({\n",
              "    train: Dataset({\n",
              "        features: ['image', 'label'],\n",
              "        num_rows: 16378\n",
              "    })\n",
              "})"
            ]
          },
          "metadata": {},
          "execution_count": 21
        }
      ],
      "source": [
        "dataset"
      ],
      "id": "ALEaqqhtERQK"
    },
    {
      "cell_type": "code",
      "execution_count": 22,
      "metadata": {
        "id": "mRDYoBZWq_wB"
      },
      "outputs": [],
      "source": [
        "image_size = 64\n",
        "channels = 3\n",
        "batch_size = 32\n"
      ],
      "id": "mRDYoBZWq_wB"
    },
    {
      "cell_type": "code",
      "execution_count": 23,
      "metadata": {
        "id": "OUTdl3WdrPyt"
      },
      "outputs": [],
      "source": [
        "# import numpy as np\n",
        "\n",
        "# # Get the first image from the dataset\n",
        "# first_image = dataset['train'][0]['image']\n",
        "\n",
        "# # Convert the PIL Image to a numpy array\n",
        "# first_image = np.array(first_image)\n",
        "\n",
        "# # Display the image\n",
        "# plt.imshow(first_image)\n",
        "# plt.show()"
      ],
      "id": "OUTdl3WdrPyt"
    },
    {
      "cell_type": "markdown",
      "metadata": {
        "id": "db6f5875"
      },
      "source": [
        "Next, we define a function which we'll apply on-the-fly on the entire dataset. We use the `with_transform` [functionality](https://huggingface.co/docs/datasets/v2.2.1/en/package_reference/main_classes#datasets.Dataset.with_transform) for that. The function just applies some basic image preprocessing: random horizontal flips, rescaling and finally make them have values in the $[-1,1]$ range."
      ],
      "id": "db6f5875"
    },
    {
      "cell_type": "code",
      "execution_count": 24,
      "metadata": {
        "id": "b3e78945"
      },
      "outputs": [],
      "source": [
        "from torchvision import transforms\n",
        "from torch.utils.data import DataLoader\n",
        "from torchvision.transforms import Compose, ToTensor, Lambda, ToPILImage, CenterCrop, Resize\n",
        "\n",
        "# define image transformations (e.g. using torchvision)\n",
        "transform = Compose([\n",
        "            transforms.Resize(64),\n",
        "            transforms.CenterCrop(64),\n",
        "            transforms.RandomHorizontalFlip(),\n",
        "            transforms.ToTensor(),\n",
        "            transforms.Lambda(lambda t: (t * 2) - 1)\n",
        "])\n",
        "\n",
        "# define function\n",
        "def transforms(examples):\n",
        "   examples[\"pixel_values\"] = [transform(image) for image in examples[\"image\"]]\n",
        "   del examples[\"image\"]\n",
        "\n",
        "   return examples\n",
        "\n",
        "transformed_dataset = dataset.with_transform(transforms)\n",
        "\n",
        "# create dataloader\n",
        "dataloader = DataLoader(transformed_dataset[\"train\"], batch_size=batch_size, shuffle=True)"
      ],
      "id": "b3e78945"
    },
    {
      "cell_type": "code",
      "execution_count": 25,
      "metadata": {
        "id": "ZYXyN5pjrrtI"
      },
      "outputs": [],
      "source": [
        "# # Get one batch of images\n",
        "# images = next(iter(dataloader))[\"pixel_values\"]\n",
        "\n",
        "# # Reverse the transformation to get the pixel values back to the range [0, 1]\n",
        "# reversed_images = (images + 1) / 2\n",
        "\n",
        "# # Now you can visualize the images\n",
        "# first_image = reversed_images[0]\n",
        "\n",
        "# # If the images are grayscale, we need to remove the channel dimension\n",
        "# if first_image.dim() == 2:\n",
        "#     plt.imshow(first_image)\n",
        "# else:\n",
        "#     plt.imshow(first_image.permute(1, 2, 0))\n",
        "# plt.show()"
      ],
      "id": "ZYXyN5pjrrtI"
    },
    {
      "cell_type": "code",
      "execution_count": 26,
      "metadata": {
        "colab": {
          "base_uri": "https://localhost:8080/"
        },
        "id": "52e8273b",
        "outputId": "3456767d-e7ea-44a2-f295-d37eb09a8b78"
      },
      "outputs": [
        {
          "output_type": "stream",
          "name": "stdout",
          "text": [
            "dict_keys(['label', 'pixel_values'])\n"
          ]
        }
      ],
      "source": [
        "batch = next(iter(dataloader))\n",
        "print(batch.keys())"
      ],
      "id": "52e8273b"
    },
    {
      "cell_type": "markdown",
      "metadata": {
        "id": "e4325faf"
      },
      "source": [
        "<div class=\"output stream stdout\">\n",
        "\n",
        "    Output:\n",
        "    ----------------------------------------------------------------------------------------------------\n",
        "    dict_keys(['pixel_values'])\n",
        "\n",
        "</div>"
      ],
      "id": "e4325faf"
    },
    {
      "cell_type": "markdown",
      "metadata": {
        "id": "4cf98443"
      },
      "source": [
        "## Sampling\n",
        "\n",
        "As we'll sample from the model during training (in order to track progress), we define the code for that below. Sampling is summarized in the paper as Algorithm 2:\n",
        "\n",
        "<img src=\"https://drive.google.com/uc?id=1ij80f8TNBDzpKtqHjk_sh8o5aby3lmD7\" width=\"500\" />\n",
        "\n",
        "Generating new images from a diffusion model happens by reversing the diffusion process: we start from $T$, where we sample pure noise from a Gaussian distribution, and then use our neural network to gradually denoise it (using the conditional probability it has learned), until we end up at time step $t = 0$. As shown above, we can derive a slighly less denoised image $\\mathbf{x}_{t-1 }$ by plugging in the reparametrization of the mean, using our noise predictor. Remember that the variance is known ahead of time.\n",
        "\n",
        "Ideally, we end up with an image that looks like it came from the real data distribution.\n",
        "\n",
        "The code below implements this."
      ],
      "id": "4cf98443"
    },
    {
      "cell_type": "code",
      "execution_count": 27,
      "metadata": {
        "id": "6-wj9DpjKe7C"
      },
      "outputs": [],
      "source": [
        "from PIL import Image\n",
        "import numpy as np\n",
        "from torchvision.utils import save_image\n",
        "import os"
      ],
      "id": "6-wj9DpjKe7C"
    },
    {
      "cell_type": "code",
      "execution_count": 28,
      "metadata": {
        "id": "fwPvRheET88B"
      },
      "outputs": [],
      "source": [
        "def resize_image(img, target_size):\n",
        "    img_pil = transforms.ToPILImage()(img)\n",
        "    img_resized = transforms.Resize(target_size)(img_pil)\n",
        "    img_resized = transforms.ToTensor()(img_resized)\n",
        "    return img_resized"
      ],
      "id": "fwPvRheET88B"
    },
    {
      "cell_type": "code",
      "execution_count": 29,
      "metadata": {
        "id": "f7628fb3"
      },
      "outputs": [],
      "source": [
        "@torch.no_grad()\n",
        "def p_sample(model, x, t, t_index):\n",
        "    betas_t = extract(betas, t, x.shape)\n",
        "    sqrt_one_minus_alphas_cumprod_t = extract(\n",
        "        sqrt_one_minus_alphas_cumprod, t, x.shape\n",
        "    )\n",
        "    sqrt_recip_alphas_t = extract(sqrt_recip_alphas, t, x.shape)\n",
        "\n",
        "    # Equation 11 in the paper\n",
        "    # Use our model (noise predictor) to predict the mean\n",
        "    model_mean = sqrt_recip_alphas_t * (\n",
        "        x - betas_t * model(x, t) / sqrt_one_minus_alphas_cumprod_t\n",
        "    )\n",
        "\n",
        "    if t_index == 0:\n",
        "        return model_mean\n",
        "    else:\n",
        "        posterior_variance_t = extract(posterior_variance, t, x.shape)\n",
        "        noise = torch.randn_like(x)\n",
        "        # Algorithm 2 line 4:\n",
        "        return model_mean + torch.sqrt(posterior_variance_t) * noise\n",
        "\n",
        "# Algorithm 2 but save all images:\n",
        "@torch.no_grad()\n",
        "def p_sample_loop(model, shape, save_dir, target_size=(3, 500, 625)):\n",
        "    device = next(model.parameters()).device\n",
        "\n",
        "    b = shape[0]\n",
        "    # start from pure noise (for each example in the batch)\n",
        "    img = torch.randn(shape, device=device)\n",
        "    imgs = []\n",
        "\n",
        "    for i in tqdm(reversed(range(0, timesteps)), desc='sampling loop time step', total=timesteps):\n",
        "        img = p_sample(model, img, torch.full((b,), i, device=device, dtype=torch.long), i)\n",
        "        # Convert the generated image tensor to a numpy array\n",
        "        img_np = img.cpu().numpy()\n",
        "\n",
        "        # Save the image as a JPG file in the Colab environment\n",
        "        save_path = os.path.join(save_dir, f'generated_image_{i}.jpg')\n",
        "        save_image(torch.from_numpy(img_np), save_path)\n",
        "\n",
        "        imgs.append(img_np)\n",
        "\n",
        "    return imgs\n",
        "\n",
        "\n",
        "@torch.no_grad()\n",
        "def sample(model, image_size, save_dir, batch_size=16, channels=3 ):\n",
        "    os.makedirs(save_dir, exist_ok=True)\n",
        "    return p_sample_loop(model, shape=(batch_size, channels, image_size, image_size), save_dir = save_dir)"
      ],
      "id": "f7628fb3"
    },
    {
      "cell_type": "markdown",
      "metadata": {
        "id": "f70235f8"
      },
      "source": [
        "\n",
        "Note that the code above is a simplified version of the original implementation. We found our simplification (which is in line with Algorithm 2 in the paper) to work just as well as the [original, more complex implementation](https://github.com/hojonathanho/diffusion/blob/master/diffusion_tf/diffusion_utils.py).\n",
        "\n",
        "\n",
        "## Train the model\n",
        "\n",
        "Next, we train the model in regular PyTorch fashion. We also define some logic to peridiocally save generated images, using the `sample` method defined above.\n"
      ],
      "id": "f70235f8"
    },
    {
      "cell_type": "code",
      "execution_count": null,
      "metadata": {
        "id": "0c1ad663"
      },
      "outputs": [],
      "source": [
        "from pathlib import Path\n",
        "\n",
        "def num_to_groups(num, divisor):\n",
        "    groups = num // divisor\n",
        "    remainder = num % divisor\n",
        "    arr = [divisor] * groups\n",
        "    if remainder > 0:\n",
        "        arr.append(remainder)\n",
        "    return arr\n",
        "\n",
        "results_folder = Path(\"./results\")\n",
        "results_folder.mkdir(exist_ok = True)\n",
        "save_and_sample_every = 1000"
      ],
      "id": "0c1ad663"
    },
    {
      "cell_type": "markdown",
      "metadata": {
        "id": "22e4c0fd"
      },
      "source": [
        "Below, we define the model, and move it to the GPU. We also define a standard optimizer (Adam)."
      ],
      "id": "22e4c0fd"
    },
    {
      "cell_type": "code",
      "execution_count": null,
      "metadata": {
        "colab": {
          "background_save": true
        },
        "id": "a5126e21",
        "outputId": "4ca0d370-bc3f-4e7a-9d37-7232865d1c4e"
      },
      "outputs": [
        {
          "ename": "NameError",
          "evalue": "ignored",
          "output_type": "error",
          "traceback": [
            "\u001b[0;31m---------------------------------------------------------------------------\u001b[0m",
            "\u001b[0;31mNameError\u001b[0m                                 Traceback (most recent call last)",
            "\u001b[0;32m<ipython-input-2-a127ae76367b>\u001b[0m in \u001b[0;36m<cell line: 3>\u001b[0;34m()\u001b[0m\n\u001b[1;32m      1\u001b[0m \u001b[0;32mfrom\u001b[0m \u001b[0mtorch\u001b[0m\u001b[0;34m.\u001b[0m\u001b[0moptim\u001b[0m \u001b[0;32mimport\u001b[0m \u001b[0mAdam\u001b[0m\u001b[0;34m\u001b[0m\u001b[0;34m\u001b[0m\u001b[0m\n\u001b[1;32m      2\u001b[0m \u001b[0;34m\u001b[0m\u001b[0m\n\u001b[0;32m----> 3\u001b[0;31m \u001b[0mdevice\u001b[0m \u001b[0;34m=\u001b[0m \u001b[0;34m\"cuda\"\u001b[0m \u001b[0;32mif\u001b[0m \u001b[0mtorch\u001b[0m\u001b[0;34m.\u001b[0m\u001b[0mcuda\u001b[0m\u001b[0;34m.\u001b[0m\u001b[0mis_available\u001b[0m\u001b[0;34m(\u001b[0m\u001b[0;34m)\u001b[0m \u001b[0;32melse\u001b[0m \u001b[0;34m\"cpu\"\u001b[0m\u001b[0;34m\u001b[0m\u001b[0;34m\u001b[0m\u001b[0m\n\u001b[0m\u001b[1;32m      4\u001b[0m \u001b[0;34m\u001b[0m\u001b[0m\n\u001b[1;32m      5\u001b[0m model = Unet(\n",
            "\u001b[0;31mNameError\u001b[0m: name 'torch' is not defined"
          ]
        }
      ],
      "source": [
        "from torch.optim import Adam\n",
        "\n",
        "device = \"cuda\" if torch.cuda.is_available() else \"cpu\"\n",
        "\n",
        "model = Unet(\n",
        "    dim=image_size,\n",
        "    channels=channels,\n",
        "    dim_mults=(1, 2, 4,)\n",
        ")\n",
        "model.to(device)\n",
        "\n",
        "optimizer = Adam(model.parameters(), lr=7e-5)"
      ],
      "id": "a5126e21"
    },
    {
      "cell_type": "markdown",
      "metadata": {
        "id": "f7444b0b"
      },
      "source": [
        "Let's start training!"
      ],
      "id": "f7444b0b"
    },
    {
      "cell_type": "code",
      "execution_count": null,
      "metadata": {
        "colab": {
          "background_save": true
        },
        "id": "E8lzA2p5thbk"
      },
      "outputs": [],
      "source": [
        "best_loss = float('inf')\n",
        "best_model_path = results_folder / 'best_model.pth'\n",
        "epochs = 100"
      ],
      "id": "E8lzA2p5thbk"
    },
    {
      "cell_type": "code",
      "execution_count": null,
      "metadata": {
        "colab": {
          "background_save": true
        },
        "id": "92b12ed1"
      },
      "outputs": [],
      "source": [
        "from torchvision.utils import save_image\n",
        "\n",
        "\n",
        "for epoch in range(epochs):\n",
        "    for step, batch in enumerate(dataloader):\n",
        "      optimizer.zero_grad()\n",
        "\n",
        "      batch_size = batch[\"pixel_values\"].shape[0]\n",
        "      batch = batch[\"pixel_values\"].to(device)\n",
        "\n",
        "      # Algorithm 1 line 3: sample t uniformally for every example in the batch\n",
        "      t = torch.randint(0, timesteps, (batch_size,), device=device).long()\n",
        "\n",
        "      loss = p_losses(model, batch, t, loss_type=\"huber\")\n",
        "\n",
        "      if step % 100 == 0:\n",
        "        print(\"Loss:\", loss.item())\n",
        "\n",
        "      loss.backward()\n",
        "      optimizer.step()\n",
        "\n",
        "      # save generated images\n",
        "      if step != 0 and step % save_and_sample_every == 0:\n",
        "        milestone = step // save_and_sample_every\n",
        "        batches = num_to_groups(4, batch_size)\n",
        "        all_images_list = list(map(lambda n: sample(model, batch_size=n, channels=channels), batches))\n",
        "        all_images = torch.cat(all_images_list, dim=0)\n",
        "        all_images = (all_images + 1) * 0.5\n",
        "        save_image(all_images, str(results_folder / f'sample-{milestone}.png'), nrow = 6)\n",
        "\n",
        "      if loss.item() < best_loss:\n",
        "          best_loss = loss.item()\n",
        "          # Save the current best model\n",
        "          torch.save(model.state_dict(), str(best_model_path))\n",
        "    print(f'Epoch: {epoch} done')\n",
        "print(\"Training complete. Best model saved at:\", best_model_path)"
      ],
      "id": "92b12ed1"
    },
    {
      "cell_type": "markdown",
      "metadata": {
        "id": "e617a66a"
      },
      "source": [
        "<div class=\"output stream stdout\">\n",
        "\n",
        "    Output:\n",
        "    ----------------------------------------------------------------------------------------------------\n",
        "    Loss: 0.4983023405075073\n",
        "    Loss: 0.39801889657974243\n",
        "    Loss: 0.0736956000328064\n",
        "    Loss: 0.07393301278352737\n",
        "    Loss: 0.061900846660137177\n",
        "    Loss: 0.05622437596321106\n",
        "    Loss: 0.06978295743465424\n",
        "    Loss: 0.05728264898061752\n",
        "    Loss: 0.04997706413269043\n",
        "    Loss: 0.04280048608779907\n",
        "    Loss: 0.0727246031165123\n",
        "    Loss: 0.05297926068305969\n",
        "    Loss: 0.05409959703683853\n",
        "    Loss: 0.04747987166047096\n",
        "    Loss: 0.035598237067461014\n",
        "    Loss: 0.0527019277215004\n",
        "    Loss: 0.07990720868110657\n",
        "    Loss: 0.054530248045921326\n",
        "    Loss: 0.055565401911735535\n",
        "    Loss: 0.06428372114896774\n",
        "    Loss: 0.04885242134332657\n",
        "    Loss: 0.03893771022558212\n",
        "    Loss: 0.051399704068899155\n",
        "    Loss: 0.057855039834976196\n",
        "    Loss: 0.04714621976017952\n",
        "    Loss: 0.03357722982764244\n",
        "    Loss: 208.99063110351562\n",
        "    Loss: 9.244522094726562\n",
        "    Loss: 0.5289267301559448\n",
        "    Loss: 0.5148600339889526\n",
        "    Loss: 0.4702889919281006\n",
        "    Loss: 0.46772074699401855\n",
        "    Loss: 0.44204193353652954\n",
        "    Loss: 0.45206841826438904\n",
        "    Loss: 0.4416607916355133\n",
        "    Loss: 0.4336085915565491\n",
        "    Loss: 0.43263787031173706\n",
        "    Loss: 0.4376640319824219\n",
        "    Loss: 0.441015362739563\n",
        "    Loss: 0.43330106139183044\n",
        "    Loss: 0.43023940920829773\n",
        "    Loss: 0.4529106318950653\n",
        "    Loss: 0.4243009686470032\n",
        "    Loss: 0.43362975120544434\n",
        "    Loss: 0.427144855260849\n",
        "    Loss: 0.42477086186408997\n",
        "    Loss: 0.4267113208770752\n",
        "    Loss: 0.4268029034137726\n",
        "    Loss: 0.42597129940986633\n",
        "    Loss: 0.4220198392868042\n",
        "    Loss: 0.41900452971458435\n",
        "    Loss: 0.4279913306236267\n",
        "    Loss: 0.42393946647644043\n",
        "    Loss: 0.4201338291168213\n",
        "    Loss: 0.42008107900619507\n",
        "    Loss: 0.4240165948867798\n",
        "    Loss: 0.42016369104385376\n",
        "    Loss: 0.41972240805625916\n",
        "    Loss: 0.420395165681839\n",
        "    Loss: 0.421099990606308\n",
        "\n",
        "</div>\n",
        "\n",
        "![image.png](data:image/png;base64,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)"
      ],
      "id": "e617a66a"
    },
    {
      "cell_type": "markdown",
      "metadata": {
        "id": "lw-BgJg8Ecj1"
      },
      "source": [
        "#Load model"
      ],
      "id": "lw-BgJg8Ecj1"
    },
    {
      "cell_type": "code",
      "source": [],
      "metadata": {
        "id": "rssBESyjlVPO"
      },
      "id": "rssBESyjlVPO",
      "execution_count": 36,
      "outputs": []
    },
    {
      "cell_type": "code",
      "execution_count": 30,
      "metadata": {
        "colab": {
          "base_uri": "https://localhost:8080/"
        },
        "id": "fcKTT6kkt9j5",
        "outputId": "28d8c36e-4c91-4b3a-a0a9-28a21f0ade45"
      },
      "outputs": [
        {
          "output_type": "stream",
          "name": "stdout",
          "text": [
            "Drive already mounted at /content/drive; to attempt to forcibly remount, call drive.mount(\"/content/drive\", force_remount=True).\n"
          ]
        }
      ],
      "source": [
        "from google.colab import drive\n",
        "drive.mount('/content/drive')"
      ],
      "id": "fcKTT6kkt9j5"
    },
    {
      "cell_type": "code",
      "execution_count": 31,
      "metadata": {
        "colab": {
          "base_uri": "https://localhost:8080/"
        },
        "id": "tjJCgpbZtosj",
        "outputId": "c61d5843-e64c-4f89-a05d-7d77bfcecb69"
      },
      "outputs": [
        {
          "output_type": "execute_result",
          "data": {
            "text/plain": [
              "<All keys matched successfully>"
            ]
          },
          "metadata": {},
          "execution_count": 31
        }
      ],
      "source": [
        "best_model = Unet(\n",
        "    dim=image_size,\n",
        "    channels=channels,\n",
        "    dim_mults=(1, 2, 4,)\n",
        ")\n",
        "#best_model.load_state_dict(torch.load(str(best_model_path)))   /content/results/best_model.pth\n",
        "best_model.load_state_dict(torch.load(\"/content/drive/MyDrive/Mélytanulás/best_model.pth\"))"
      ],
      "id": "tjJCgpbZtosj"
    },
    {
      "cell_type": "code",
      "execution_count": 32,
      "metadata": {
        "id": "l-LAGTZiFfT0",
        "colab": {
          "base_uri": "https://localhost:8080/"
        },
        "outputId": "4cacb4c9-6424-40b0-b275-7b3500e97392"
      },
      "outputs": [
        {
          "output_type": "execute_result",
          "data": {
            "text/plain": [
              "Unet(\n",
              "  (init_conv): Conv2d(3, 42, kernel_size=(7, 7), stride=(1, 1), padding=(3, 3))\n",
              "  (time_mlp): Sequential(\n",
              "    (0): SinusoidalPositionEmbeddings()\n",
              "    (1): Linear(in_features=64, out_features=256, bias=True)\n",
              "    (2): GELU(approximate='none')\n",
              "    (3): Linear(in_features=256, out_features=256, bias=True)\n",
              "  )\n",
              "  (downs): ModuleList(\n",
              "    (0): ModuleList(\n",
              "      (0): ConvNextBlock(\n",
              "        (mlp): Sequential(\n",
              "          (0): GELU(approximate='none')\n",
              "          (1): Linear(in_features=256, out_features=42, bias=True)\n",
              "        )\n",
              "        (ds_conv): Conv2d(42, 42, kernel_size=(7, 7), stride=(1, 1), padding=(3, 3), groups=42)\n",
              "        (net): Sequential(\n",
              "          (0): GroupNorm(1, 42, eps=1e-05, affine=True)\n",
              "          (1): Conv2d(42, 128, kernel_size=(3, 3), stride=(1, 1), padding=(1, 1))\n",
              "          (2): GELU(approximate='none')\n",
              "          (3): GroupNorm(1, 128, eps=1e-05, affine=True)\n",
              "          (4): Conv2d(128, 64, kernel_size=(3, 3), stride=(1, 1), padding=(1, 1))\n",
              "        )\n",
              "        (res_conv): Conv2d(42, 64, kernel_size=(1, 1), stride=(1, 1))\n",
              "      )\n",
              "      (1): ConvNextBlock(\n",
              "        (mlp): Sequential(\n",
              "          (0): GELU(approximate='none')\n",
              "          (1): Linear(in_features=256, out_features=64, bias=True)\n",
              "        )\n",
              "        (ds_conv): Conv2d(64, 64, kernel_size=(7, 7), stride=(1, 1), padding=(3, 3), groups=64)\n",
              "        (net): Sequential(\n",
              "          (0): GroupNorm(1, 64, eps=1e-05, affine=True)\n",
              "          (1): Conv2d(64, 128, kernel_size=(3, 3), stride=(1, 1), padding=(1, 1))\n",
              "          (2): GELU(approximate='none')\n",
              "          (3): GroupNorm(1, 128, eps=1e-05, affine=True)\n",
              "          (4): Conv2d(128, 64, kernel_size=(3, 3), stride=(1, 1), padding=(1, 1))\n",
              "        )\n",
              "        (res_conv): Identity()\n",
              "      )\n",
              "      (2): Residual(\n",
              "        (fn): PreNorm(\n",
              "          (fn): LinearAttention(\n",
              "            (to_qkv): Conv2d(64, 384, kernel_size=(1, 1), stride=(1, 1), bias=False)\n",
              "            (to_out): Sequential(\n",
              "              (0): Conv2d(128, 64, kernel_size=(1, 1), stride=(1, 1))\n",
              "              (1): GroupNorm(1, 64, eps=1e-05, affine=True)\n",
              "            )\n",
              "          )\n",
              "          (norm): GroupNorm(1, 64, eps=1e-05, affine=True)\n",
              "        )\n",
              "      )\n",
              "      (3): Conv2d(64, 64, kernel_size=(4, 4), stride=(2, 2), padding=(1, 1))\n",
              "    )\n",
              "    (1): ModuleList(\n",
              "      (0): ConvNextBlock(\n",
              "        (mlp): Sequential(\n",
              "          (0): GELU(approximate='none')\n",
              "          (1): Linear(in_features=256, out_features=64, bias=True)\n",
              "        )\n",
              "        (ds_conv): Conv2d(64, 64, kernel_size=(7, 7), stride=(1, 1), padding=(3, 3), groups=64)\n",
              "        (net): Sequential(\n",
              "          (0): GroupNorm(1, 64, eps=1e-05, affine=True)\n",
              "          (1): Conv2d(64, 256, kernel_size=(3, 3), stride=(1, 1), padding=(1, 1))\n",
              "          (2): GELU(approximate='none')\n",
              "          (3): GroupNorm(1, 256, eps=1e-05, affine=True)\n",
              "          (4): Conv2d(256, 128, kernel_size=(3, 3), stride=(1, 1), padding=(1, 1))\n",
              "        )\n",
              "        (res_conv): Conv2d(64, 128, kernel_size=(1, 1), stride=(1, 1))\n",
              "      )\n",
              "      (1): ConvNextBlock(\n",
              "        (mlp): Sequential(\n",
              "          (0): GELU(approximate='none')\n",
              "          (1): Linear(in_features=256, out_features=128, bias=True)\n",
              "        )\n",
              "        (ds_conv): Conv2d(128, 128, kernel_size=(7, 7), stride=(1, 1), padding=(3, 3), groups=128)\n",
              "        (net): Sequential(\n",
              "          (0): GroupNorm(1, 128, eps=1e-05, affine=True)\n",
              "          (1): Conv2d(128, 256, kernel_size=(3, 3), stride=(1, 1), padding=(1, 1))\n",
              "          (2): GELU(approximate='none')\n",
              "          (3): GroupNorm(1, 256, eps=1e-05, affine=True)\n",
              "          (4): Conv2d(256, 128, kernel_size=(3, 3), stride=(1, 1), padding=(1, 1))\n",
              "        )\n",
              "        (res_conv): Identity()\n",
              "      )\n",
              "      (2): Residual(\n",
              "        (fn): PreNorm(\n",
              "          (fn): LinearAttention(\n",
              "            (to_qkv): Conv2d(128, 384, kernel_size=(1, 1), stride=(1, 1), bias=False)\n",
              "            (to_out): Sequential(\n",
              "              (0): Conv2d(128, 128, kernel_size=(1, 1), stride=(1, 1))\n",
              "              (1): GroupNorm(1, 128, eps=1e-05, affine=True)\n",
              "            )\n",
              "          )\n",
              "          (norm): GroupNorm(1, 128, eps=1e-05, affine=True)\n",
              "        )\n",
              "      )\n",
              "      (3): Conv2d(128, 128, kernel_size=(4, 4), stride=(2, 2), padding=(1, 1))\n",
              "    )\n",
              "    (2): ModuleList(\n",
              "      (0): ConvNextBlock(\n",
              "        (mlp): Sequential(\n",
              "          (0): GELU(approximate='none')\n",
              "          (1): Linear(in_features=256, out_features=128, bias=True)\n",
              "        )\n",
              "        (ds_conv): Conv2d(128, 128, kernel_size=(7, 7), stride=(1, 1), padding=(3, 3), groups=128)\n",
              "        (net): Sequential(\n",
              "          (0): GroupNorm(1, 128, eps=1e-05, affine=True)\n",
              "          (1): Conv2d(128, 512, kernel_size=(3, 3), stride=(1, 1), padding=(1, 1))\n",
              "          (2): GELU(approximate='none')\n",
              "          (3): GroupNorm(1, 512, eps=1e-05, affine=True)\n",
              "          (4): Conv2d(512, 256, kernel_size=(3, 3), stride=(1, 1), padding=(1, 1))\n",
              "        )\n",
              "        (res_conv): Conv2d(128, 256, kernel_size=(1, 1), stride=(1, 1))\n",
              "      )\n",
              "      (1): ConvNextBlock(\n",
              "        (mlp): Sequential(\n",
              "          (0): GELU(approximate='none')\n",
              "          (1): Linear(in_features=256, out_features=256, bias=True)\n",
              "        )\n",
              "        (ds_conv): Conv2d(256, 256, kernel_size=(7, 7), stride=(1, 1), padding=(3, 3), groups=256)\n",
              "        (net): Sequential(\n",
              "          (0): GroupNorm(1, 256, eps=1e-05, affine=True)\n",
              "          (1): Conv2d(256, 512, kernel_size=(3, 3), stride=(1, 1), padding=(1, 1))\n",
              "          (2): GELU(approximate='none')\n",
              "          (3): GroupNorm(1, 512, eps=1e-05, affine=True)\n",
              "          (4): Conv2d(512, 256, kernel_size=(3, 3), stride=(1, 1), padding=(1, 1))\n",
              "        )\n",
              "        (res_conv): Identity()\n",
              "      )\n",
              "      (2): Residual(\n",
              "        (fn): PreNorm(\n",
              "          (fn): LinearAttention(\n",
              "            (to_qkv): Conv2d(256, 384, kernel_size=(1, 1), stride=(1, 1), bias=False)\n",
              "            (to_out): Sequential(\n",
              "              (0): Conv2d(128, 256, kernel_size=(1, 1), stride=(1, 1))\n",
              "              (1): GroupNorm(1, 256, eps=1e-05, affine=True)\n",
              "            )\n",
              "          )\n",
              "          (norm): GroupNorm(1, 256, eps=1e-05, affine=True)\n",
              "        )\n",
              "      )\n",
              "      (3): Identity()\n",
              "    )\n",
              "  )\n",
              "  (ups): ModuleList(\n",
              "    (0): ModuleList(\n",
              "      (0): ConvNextBlock(\n",
              "        (mlp): Sequential(\n",
              "          (0): GELU(approximate='none')\n",
              "          (1): Linear(in_features=256, out_features=512, bias=True)\n",
              "        )\n",
              "        (ds_conv): Conv2d(512, 512, kernel_size=(7, 7), stride=(1, 1), padding=(3, 3), groups=512)\n",
              "        (net): Sequential(\n",
              "          (0): GroupNorm(1, 512, eps=1e-05, affine=True)\n",
              "          (1): Conv2d(512, 256, kernel_size=(3, 3), stride=(1, 1), padding=(1, 1))\n",
              "          (2): GELU(approximate='none')\n",
              "          (3): GroupNorm(1, 256, eps=1e-05, affine=True)\n",
              "          (4): Conv2d(256, 128, kernel_size=(3, 3), stride=(1, 1), padding=(1, 1))\n",
              "        )\n",
              "        (res_conv): Conv2d(512, 128, kernel_size=(1, 1), stride=(1, 1))\n",
              "      )\n",
              "      (1): ConvNextBlock(\n",
              "        (mlp): Sequential(\n",
              "          (0): GELU(approximate='none')\n",
              "          (1): Linear(in_features=256, out_features=128, bias=True)\n",
              "        )\n",
              "        (ds_conv): Conv2d(128, 128, kernel_size=(7, 7), stride=(1, 1), padding=(3, 3), groups=128)\n",
              "        (net): Sequential(\n",
              "          (0): GroupNorm(1, 128, eps=1e-05, affine=True)\n",
              "          (1): Conv2d(128, 256, kernel_size=(3, 3), stride=(1, 1), padding=(1, 1))\n",
              "          (2): GELU(approximate='none')\n",
              "          (3): GroupNorm(1, 256, eps=1e-05, affine=True)\n",
              "          (4): Conv2d(256, 128, kernel_size=(3, 3), stride=(1, 1), padding=(1, 1))\n",
              "        )\n",
              "        (res_conv): Identity()\n",
              "      )\n",
              "      (2): Residual(\n",
              "        (fn): PreNorm(\n",
              "          (fn): LinearAttention(\n",
              "            (to_qkv): Conv2d(128, 384, kernel_size=(1, 1), stride=(1, 1), bias=False)\n",
              "            (to_out): Sequential(\n",
              "              (0): Conv2d(128, 128, kernel_size=(1, 1), stride=(1, 1))\n",
              "              (1): GroupNorm(1, 128, eps=1e-05, affine=True)\n",
              "            )\n",
              "          )\n",
              "          (norm): GroupNorm(1, 128, eps=1e-05, affine=True)\n",
              "        )\n",
              "      )\n",
              "      (3): ConvTranspose2d(128, 128, kernel_size=(4, 4), stride=(2, 2), padding=(1, 1))\n",
              "    )\n",
              "    (1): ModuleList(\n",
              "      (0): ConvNextBlock(\n",
              "        (mlp): Sequential(\n",
              "          (0): GELU(approximate='none')\n",
              "          (1): Linear(in_features=256, out_features=256, bias=True)\n",
              "        )\n",
              "        (ds_conv): Conv2d(256, 256, kernel_size=(7, 7), stride=(1, 1), padding=(3, 3), groups=256)\n",
              "        (net): Sequential(\n",
              "          (0): GroupNorm(1, 256, eps=1e-05, affine=True)\n",
              "          (1): Conv2d(256, 128, kernel_size=(3, 3), stride=(1, 1), padding=(1, 1))\n",
              "          (2): GELU(approximate='none')\n",
              "          (3): GroupNorm(1, 128, eps=1e-05, affine=True)\n",
              "          (4): Conv2d(128, 64, kernel_size=(3, 3), stride=(1, 1), padding=(1, 1))\n",
              "        )\n",
              "        (res_conv): Conv2d(256, 64, kernel_size=(1, 1), stride=(1, 1))\n",
              "      )\n",
              "      (1): ConvNextBlock(\n",
              "        (mlp): Sequential(\n",
              "          (0): GELU(approximate='none')\n",
              "          (1): Linear(in_features=256, out_features=64, bias=True)\n",
              "        )\n",
              "        (ds_conv): Conv2d(64, 64, kernel_size=(7, 7), stride=(1, 1), padding=(3, 3), groups=64)\n",
              "        (net): Sequential(\n",
              "          (0): GroupNorm(1, 64, eps=1e-05, affine=True)\n",
              "          (1): Conv2d(64, 128, kernel_size=(3, 3), stride=(1, 1), padding=(1, 1))\n",
              "          (2): GELU(approximate='none')\n",
              "          (3): GroupNorm(1, 128, eps=1e-05, affine=True)\n",
              "          (4): Conv2d(128, 64, kernel_size=(3, 3), stride=(1, 1), padding=(1, 1))\n",
              "        )\n",
              "        (res_conv): Identity()\n",
              "      )\n",
              "      (2): Residual(\n",
              "        (fn): PreNorm(\n",
              "          (fn): LinearAttention(\n",
              "            (to_qkv): Conv2d(64, 384, kernel_size=(1, 1), stride=(1, 1), bias=False)\n",
              "            (to_out): Sequential(\n",
              "              (0): Conv2d(128, 64, kernel_size=(1, 1), stride=(1, 1))\n",
              "              (1): GroupNorm(1, 64, eps=1e-05, affine=True)\n",
              "            )\n",
              "          )\n",
              "          (norm): GroupNorm(1, 64, eps=1e-05, affine=True)\n",
              "        )\n",
              "      )\n",
              "      (3): ConvTranspose2d(64, 64, kernel_size=(4, 4), stride=(2, 2), padding=(1, 1))\n",
              "    )\n",
              "  )\n",
              "  (mid_block1): ConvNextBlock(\n",
              "    (mlp): Sequential(\n",
              "      (0): GELU(approximate='none')\n",
              "      (1): Linear(in_features=256, out_features=256, bias=True)\n",
              "    )\n",
              "    (ds_conv): Conv2d(256, 256, kernel_size=(7, 7), stride=(1, 1), padding=(3, 3), groups=256)\n",
              "    (net): Sequential(\n",
              "      (0): GroupNorm(1, 256, eps=1e-05, affine=True)\n",
              "      (1): Conv2d(256, 512, kernel_size=(3, 3), stride=(1, 1), padding=(1, 1))\n",
              "      (2): GELU(approximate='none')\n",
              "      (3): GroupNorm(1, 512, eps=1e-05, affine=True)\n",
              "      (4): Conv2d(512, 256, kernel_size=(3, 3), stride=(1, 1), padding=(1, 1))\n",
              "    )\n",
              "    (res_conv): Identity()\n",
              "  )\n",
              "  (mid_attn): Residual(\n",
              "    (fn): PreNorm(\n",
              "      (fn): Attention(\n",
              "        (to_qkv): Conv2d(256, 384, kernel_size=(1, 1), stride=(1, 1), bias=False)\n",
              "        (to_out): Conv2d(128, 256, kernel_size=(1, 1), stride=(1, 1))\n",
              "      )\n",
              "      (norm): GroupNorm(1, 256, eps=1e-05, affine=True)\n",
              "    )\n",
              "  )\n",
              "  (mid_block2): ConvNextBlock(\n",
              "    (mlp): Sequential(\n",
              "      (0): GELU(approximate='none')\n",
              "      (1): Linear(in_features=256, out_features=256, bias=True)\n",
              "    )\n",
              "    (ds_conv): Conv2d(256, 256, kernel_size=(7, 7), stride=(1, 1), padding=(3, 3), groups=256)\n",
              "    (net): Sequential(\n",
              "      (0): GroupNorm(1, 256, eps=1e-05, affine=True)\n",
              "      (1): Conv2d(256, 512, kernel_size=(3, 3), stride=(1, 1), padding=(1, 1))\n",
              "      (2): GELU(approximate='none')\n",
              "      (3): GroupNorm(1, 512, eps=1e-05, affine=True)\n",
              "      (4): Conv2d(512, 256, kernel_size=(3, 3), stride=(1, 1), padding=(1, 1))\n",
              "    )\n",
              "    (res_conv): Identity()\n",
              "  )\n",
              "  (final_conv): Sequential(\n",
              "    (0): ConvNextBlock(\n",
              "      (ds_conv): Conv2d(64, 64, kernel_size=(7, 7), stride=(1, 1), padding=(3, 3), groups=64)\n",
              "      (net): Sequential(\n",
              "        (0): GroupNorm(1, 64, eps=1e-05, affine=True)\n",
              "        (1): Conv2d(64, 128, kernel_size=(3, 3), stride=(1, 1), padding=(1, 1))\n",
              "        (2): GELU(approximate='none')\n",
              "        (3): GroupNorm(1, 128, eps=1e-05, affine=True)\n",
              "        (4): Conv2d(128, 64, kernel_size=(3, 3), stride=(1, 1), padding=(1, 1))\n",
              "      )\n",
              "      (res_conv): Identity()\n",
              "    )\n",
              "    (1): Conv2d(64, 3, kernel_size=(1, 1), stride=(1, 1))\n",
              "  )\n",
              ")"
            ]
          },
          "metadata": {},
          "execution_count": 32
        }
      ],
      "source": [
        "best_model"
      ],
      "id": "l-LAGTZiFfT0"
    },
    {
      "cell_type": "code",
      "source": [
        "import shutil\n",
        "\n",
        "folder_path = '/content/results'\n",
        "\n",
        "try:\n",
        "    # Use shutil.rmtree() to delete the folder and its contents\n",
        "    shutil.rmtree(folder_path)\n",
        "    print(f\"Folder '{folder_path}' and its contents have been deleted.\")\n",
        "except Exception as e:\n",
        "    print(f\"An error occurred: {e}\")\n"
      ],
      "metadata": {
        "colab": {
          "base_uri": "https://localhost:8080/"
        },
        "id": "AiePxJ1xvyyV",
        "outputId": "011da6ea-18a2-4f34-e8c9-da18f848313e"
      },
      "id": "AiePxJ1xvyyV",
      "execution_count": 33,
      "outputs": [
        {
          "output_type": "stream",
          "name": "stdout",
          "text": [
            "Folder '/content/results' and its contents have been deleted.\n"
          ]
        }
      ]
    },
    {
      "cell_type": "markdown",
      "metadata": {
        "id": "a8337c82"
      },
      "source": [
        "# Sampling (inference)\n",
        "\n",
        "To sample from the model, we can just use our sample function defined above:\n"
      ],
      "id": "a8337c82"
    },
    {
      "cell_type": "code",
      "execution_count": null,
      "metadata": {
        "id": "eSwH5sL6IfB1"
      },
      "outputs": [],
      "source": [
        "device = torch.device(\"cuda\" if torch.cuda.is_available() else \"cpu\")\n",
        "best_model.to(device)\n"
      ],
      "id": "eSwH5sL6IfB1"
    },
    {
      "cell_type": "code",
      "execution_count": 35,
      "metadata": {
        "id": "f3d8a814",
        "colab": {
          "base_uri": "https://localhost:8080/",
          "height": 77,
          "referenced_widgets": [
            "331056ae262c4626802ce9eecd49d1c4",
            "c8b0a440cc5e42a7bc5daa628bc4f54f",
            "32d3868e1e714343a4d7f399c9af6b51",
            "957cce130ccc4a8a9ea1f76333f7ae2e",
            "7c250a01587f43c7b9d83ed4b1e3e5ee",
            "b0feb39db273496c87d2e4bdece2d7aa",
            "4c7426f5de4344d8be78dacaf4709157",
            "6115a9b77c464bf8965edbe346534de8",
            "1fe9200597864c21a923c08455ff982f",
            "17dcd516acb14725aa015ea548855eb2",
            "3342070e1c03445c9569534c39ba8aa4"
          ]
        },
        "outputId": "a8d352e1-78df-42ca-89ff-31d672f84f1c"
      },
      "outputs": [
        {
          "output_type": "display_data",
          "data": {
            "text/plain": [
              "sampling loop time step:   0%|          | 0/200 [00:00<?, ?it/s]"
            ],
            "application/vnd.jupyter.widget-view+json": {
              "version_major": 2,
              "version_minor": 0,
              "model_id": "331056ae262c4626802ce9eecd49d1c4"
            }
          },
          "metadata": {}
        }
      ],
      "source": [
        "# sample 64 images\n",
        "#samples = sample(best_model, image_size=image_size, save_dir='results', batch_size=64, channels=channels)\n",
        "samples = sample(best_model, image_size=image_size, save_dir='results', batch_size=64, channels=channels)"
      ],
      "id": "f3d8a814"
    },
    {
      "cell_type": "code",
      "execution_count": 56,
      "metadata": {
        "id": "_s-Al2lJ2c8T",
        "colab": {
          "base_uri": "https://localhost:8080/",
          "height": 487
        },
        "outputId": "3e5f6624-6219-45d0-b0fc-b15f0f2c8c08"
      },
      "outputs": [
        {
          "output_type": "stream",
          "name": "stderr",
          "text": [
            "WARNING:matplotlib.image:Clipping input data to the valid range for imshow with RGB data ([0..1] for floats or [0..255] for integers).\n"
          ]
        },
        {
          "output_type": "execute_result",
          "data": {
            "text/plain": [
              "(-1.1320128, 2.2915413, -0.001503789)"
            ]
          },
          "metadata": {},
          "execution_count": 56
        },
        {
          "output_type": "display_data",
          "data": {
            "text/plain": [
              "<Figure size 640x480 with 1 Axes>"
            ],
            "image/png": "[encoded data removed]"
          },
          "metadata": {}
        }
      ],
      "source": [
        "# show a random one\n",
        "random_index = 1\n",
        "plt.imshow((samples[-1][random_index].transpose(1, 2, 0) + 1.0) / 2.0)  #clip/clamp\n",
        "samples[-1].min(), samples[-1].max(), samples[-1].mean()"
      ],
      "id": "_s-Al2lJ2c8T"
    },
    {
      "cell_type": "code",
      "execution_count": 37,
      "metadata": {
        "id": "YUUqUUlQRicE",
        "colab": {
          "base_uri": "https://localhost:8080/",
          "height": 449
        },
        "outputId": "4c841594-0c01-4213-9837-3473f60fa72d"
      },
      "outputs": [
        {
          "output_type": "execute_result",
          "data": {
            "text/plain": [
              "<matplotlib.image.AxesImage at 0x7f5b732dd570>"
            ]
          },
          "metadata": {},
          "execution_count": 37
        },
        {
          "output_type": "display_data",
          "data": {
            "text/plain": [
              "<Figure size 640x480 with 1 Axes>"
            ],
            "image/png": "[encoded data removed]"
          },
          "metadata": {}
        }
      ],
      "source": [
        "# show a random one\n",
        "random_index = 10\n",
        "image=(samples[-1][random_index].transpose(1, 2, 0) + 1.0) / 2.0\n",
        "clipped_image = np.clip(image, 0.0, 1.0)\n",
        "plt.imshow(clipped_image)  #clip/clamp\n",
        "#clipped_image.min(),clipped_image.max(),clipped_image.mean()"
      ],
      "id": "YUUqUUlQRicE"
    },
    {
      "cell_type": "code",
      "execution_count": null,
      "metadata": {
        "id": "D4OEFaavDwCG"
      },
      "outputs": [],
      "source": [
        "#print(samples[-1][random_index].reshape(image_size, image_size, channels))"
      ],
      "id": "D4OEFaavDwCG"
    },
    {
      "cell_type": "code",
      "execution_count": 40,
      "metadata": {
        "id": "QzQqSoHOJaIt"
      },
      "outputs": [],
      "source": [
        "#samples"
      ],
      "id": "QzQqSoHOJaIt"
    },
    {
      "cell_type": "code",
      "execution_count": 41,
      "metadata": {
        "id": "-7gn34yWubLM",
        "colab": {
          "base_uri": "https://localhost:8080/"
        },
        "outputId": "b409d208-4b46-4008-835a-f9a1c68a1d0a"
      },
      "outputs": [
        {
          "output_type": "execute_result",
          "data": {
            "text/plain": [
              "(3, 64, 64)"
            ]
          },
          "metadata": {},
          "execution_count": 41
        }
      ],
      "source": [
        "samples[-1][random_index].shape"
      ],
      "id": "-7gn34yWubLM"
    },
    {
      "cell_type": "markdown",
      "metadata": {
        "id": "0k4H1fmlKvzR"
      },
      "source": [
        "Seems like the model is capable of generating a nice T-shirt! Keep in mind that the dataset we trained on is pretty low-resolution (28x28).\n",
        "\n",
        "We can also create a gif of the denoising process:"
      ],
      "id": "0k4H1fmlKvzR"
    },
    {
      "cell_type": "code",
      "execution_count": 42,
      "metadata": {
        "id": "spE1I9aVNwzZ",
        "colab": {
          "base_uri": "https://localhost:8080/",
          "height": 105
        },
        "outputId": "3ac55211-2393-47c3-85ca-9f68abd0c097"
      },
      "outputs": [
        {
          "output_type": "execute_result",
          "data": {
            "text/plain": [
              "'import matplotlib.animation as animation\\n\\nrandom_index = 53\\n\\nfig = plt.figure()\\nims = []\\nfor i in range(timesteps):\\n    im = plt.imshow(samples[i][random_index].reshape(image_size, image_size, channels), cmap=\"gray\", animated=True)\\n    ims.append([im])\\n\\nanimate = animation.ArtistAnimation(fig, ims, interval=50, blit=True, repeat_delay=1000)\\n#animate.save(\\'diffusion.gif\\')\\nplt.show()'"
            ],
            "application/vnd.google.colaboratory.intrinsic+json": {
              "type": "string"
            }
          },
          "metadata": {},
          "execution_count": 42
        }
      ],
      "source": [
        "\"\"\"import matplotlib.animation as animation\n",
        "\n",
        "random_index = 53\n",
        "\n",
        "fig = plt.figure()\n",
        "ims = []\n",
        "for i in range(timesteps):\n",
        "    im = plt.imshow(samples[i][random_index].reshape(image_size, image_size, channels), cmap=\"gray\", animated=True)\n",
        "    ims.append([im])\n",
        "\n",
        "animate = animation.ArtistAnimation(fig, ims, interval=50, blit=True, repeat_delay=1000)\n",
        "#animate.save('diffusion.gif')\n",
        "plt.show()\"\"\""
      ],
      "id": "spE1I9aVNwzZ"
    },
    {
      "cell_type": "markdown",
      "metadata": {
        "id": "b02eb802"
      },
      "source": [
        "<img src=\"https://drive.google.com/uc?id=1eyonQWhfmbQsTq8ndsNjw5QSRQ9em9Au\" width=\"500\" />\n",
        "\n",
        "# Follow-up reads\n",
        "\n",
        "Note that the DDPM paper showed that diffusion models are a promising direction for (un)conditional image generation. This has since then (immensely) been improved, most notably for text-conditional image generation. Below, we list some important (but far from exhaustive) follow-up works:\n",
        "\n",
        "- Improved Denoising Diffusion Probabilistic Models ([Nichol et al., 2021](https://arxiv.org/abs/2102.09672)): finds that learning the variance of the conditional distribution (besides the mean) helps in improving performance\n",
        "- Cascaded Diffusion Models for High Fidelity Image Generation ([Ho et al., 2021](https://arxiv.org/abs/2106.15282)): introduce cascaded diffusion, which comprises a pipeline of multiple diffusion models that generate images of increasing resolution for high-fidelity image synthesis\n",
        "- Diffusion Models Beat GANs on Image Synthesis ([Dhariwal et al., 2021](https://arxiv.org/abs/2105.05233)): show that diffusion models can achieve image sample quality superior to the current state-of-the-art generative models by improving the U-Net architecture, as well as introducing classifier guidance\n",
        "- Classifier-Free Diffusion Guidance ([Ho et al., 2021](https://openreview.net/pdf?id=qw8AKxfYbI)): shows that you don't need a classifier for guiding a diffusion model by jointly training a conditional and an unconditional diffusion model with a single neural network\n",
        "- Hierarchical Text-Conditional Image Generation with CLIP Latents (DALL-E 2) ([Ramesh et al., 2022](https://cdn.openai.com/papers/dall-e-2.pdf)): use a prior to turn a text caption into a CLIP image embedding, after which a diffusion model decodes it into an image\n",
        "- Photorealistic Text-to-Image Diffusion Models with Deep Language Understanding (ImageGen) ([Saharia et al., 2022](https://arxiv.org/abs/2205.11487)): shows that combining a large pre-trained language model (e.g. T5) with cascaded diffusion works well for text-to-image synthesis\n",
        "\n",
        "Note that this list only includes important works until the time of writing, which is June 7th, 2022.\n",
        "\n",
        "For now, it seems that the main (perhaps only) disadvantage of diffusion models is that they require multiple forward passes to generate an image (which is not the case for generative models like GANs). However, there's [research going on](https://arxiv.org/abs/2204.13902) that enables high-fidelity generation in as few as 10 denoising steps."
      ],
      "id": "b02eb802"
    },
    {
      "cell_type": "markdown",
      "metadata": {
        "id": "hy5Yb7KwXpuE"
      },
      "source": [
        "# Evaluating the model\n"
      ],
      "id": "hy5Yb7KwXpuE"
    },
    {
      "cell_type": "code",
      "execution_count": null,
      "metadata": {
        "id": "fwxBqpOprR4O"
      },
      "outputs": [],
      "source": [
        "import torch\n",
        "import torch.nn.functional as F\n",
        "from torchvision import transforms\n",
        "from scipy.stats import entropy\n",
        "\n",
        "# Assuming you have a U-Net model named 'UNet' and 'generated_images'\n",
        "\n",
        "best_model.eval()"
      ],
      "id": "fwxBqpOprR4O"
    },
    {
      "cell_type": "markdown",
      "metadata": {
        "id": "tQwS1TcEHVV2"
      },
      "source": [
        "**FID** : The Frechet Inception Distance (FID) is a popular metric for evaluating the quality of images generated by models like GANs and diffusion models1. It calculates the distance between feature vectors calculated for real and generated images1. Lower FID scores indicate that the two groups of images are more similar, with a perfect score being 0.0 indicating that the two groups of images are identical1."
      ],
      "id": "tQwS1TcEHVV2"
    },
    {
      "cell_type": "code",
      "source": [
        "# example of calculating the frechet inception distance\n",
        "import numpy\n",
        "from numpy import cov\n",
        "from numpy import trace\n",
        "from numpy import iscomplexobj\n",
        "from numpy.random import random\n",
        "from scipy.linalg import sqrtm\n",
        "\n",
        "# calculate frechet inception distance\n",
        "def calculate_fid(act1, act2):\n",
        " # calculate mean and covariance statistics\n",
        " mu1, sigma1 = act1.mean(axis=0), cov(act1, rowvar=False)\n",
        " mu2, sigma2 = act2.mean(axis=0), cov(act2, rowvar=False)\n",
        " # calculate sum squared difference between means\n",
        " ssdiff = numpy.sum((mu1 - mu2)**2.0)\n",
        " # calculate sqrt of product between cov\n",
        " covmean = sqrtm(sigma1.dot(sigma2))\n",
        " # check and correct imaginary numbers from sqrt\n",
        " if iscomplexobj(covmean):\n",
        "  covmean = covmean.real\n",
        "  # calculate score\n",
        "  fid = ssdiff + trace(sigma1 + sigma2 - 2.0 * covmean)\n",
        "  return fid\n",
        "\n",
        "# define two collections of activations\n",
        "act1 = random(10*2048)\n",
        "act1 = act1.reshape((10,2048))\n",
        "act2 = random(10*2048)\n",
        "act2 = act2.reshape((10,2048))\n",
        "# fid between act1 and act1\n",
        "fid = calculate_fid(act1, act1)\n",
        "print('FID (same): %.3f' % fid)\n",
        "# fid between act1 and act2\n",
        "fid = calculate_fid(act1, act2)\n",
        "print('FID (different): %.3f' % fid)"
      ],
      "metadata": {
        "colab": {
          "base_uri": "https://localhost:8080/"
        },
        "id": "h1YIWRKI3hcP",
        "outputId": "f9283046-e3c7-4515-f307-88c2ceb9ecd0"
      },
      "id": "h1YIWRKI3hcP",
      "execution_count": 46,
      "outputs": [
        {
          "output_type": "stream",
          "name": "stdout",
          "text": [
            "FID (same): -145071098353755500964741120.000\n",
            "FID (different): -1740631327434253247543837868513872940351596527790717011041623919126058239543866814365696.000\n"
          ]
        }
      ]
    },
    {
      "cell_type": "code",
      "execution_count": 47,
      "metadata": {
        "colab": {
          "base_uri": "https://localhost:8080/"
        },
        "id": "qUoYfnceHT1a",
        "outputId": "944f7f78-dc97-4307-a424-368b20ed3743"
      },
      "outputs": [
        {
          "output_type": "stream",
          "name": "stdout",
          "text": [
            "Requirement already satisfied: pytorch-fid in /usr/local/lib/python3.10/dist-packages (0.3.0)\n",
            "Requirement already satisfied: numpy in /usr/local/lib/python3.10/dist-packages (from pytorch-fid) (1.23.5)\n",
            "Requirement already satisfied: pillow in /usr/local/lib/python3.10/dist-packages (from pytorch-fid) (9.4.0)\n",
            "Requirement already satisfied: scipy in /usr/local/lib/python3.10/dist-packages (from pytorch-fid) (1.11.3)\n",
            "Requirement already satisfied: torch>=1.0.1 in /usr/local/lib/python3.10/dist-packages (from pytorch-fid) (2.1.0+cu118)\n",
            "Requirement already satisfied: torchvision>=0.2.2 in /usr/local/lib/python3.10/dist-packages (from pytorch-fid) (0.16.0+cu118)\n",
            "Requirement already satisfied: filelock in /usr/local/lib/python3.10/dist-packages (from torch>=1.0.1->pytorch-fid) (3.13.1)\n",
            "Requirement already satisfied: typing-extensions in /usr/local/lib/python3.10/dist-packages (from torch>=1.0.1->pytorch-fid) (4.5.0)\n",
            "Requirement already satisfied: sympy in /usr/local/lib/python3.10/dist-packages (from torch>=1.0.1->pytorch-fid) (1.12)\n",
            "Requirement already satisfied: networkx in /usr/local/lib/python3.10/dist-packages (from torch>=1.0.1->pytorch-fid) (3.2.1)\n",
            "Requirement already satisfied: jinja2 in /usr/local/lib/python3.10/dist-packages (from torch>=1.0.1->pytorch-fid) (3.1.2)\n",
            "Requirement already satisfied: fsspec in /usr/local/lib/python3.10/dist-packages (from torch>=1.0.1->pytorch-fid) (2023.6.0)\n",
            "Requirement already satisfied: triton==2.1.0 in /usr/local/lib/python3.10/dist-packages (from torch>=1.0.1->pytorch-fid) (2.1.0)\n",
            "Requirement already satisfied: requests in /usr/local/lib/python3.10/dist-packages (from torchvision>=0.2.2->pytorch-fid) (2.31.0)\n",
            "Requirement already satisfied: MarkupSafe>=2.0 in /usr/local/lib/python3.10/dist-packages (from jinja2->torch>=1.0.1->pytorch-fid) (2.1.3)\n",
            "Requirement already satisfied: charset-normalizer<4,>=2 in /usr/local/lib/python3.10/dist-packages (from requests->torchvision>=0.2.2->pytorch-fid) (3.3.2)\n",
            "Requirement already satisfied: idna<4,>=2.5 in /usr/local/lib/python3.10/dist-packages (from requests->torchvision>=0.2.2->pytorch-fid) (3.4)\n",
            "Requirement already satisfied: urllib3<3,>=1.21.1 in /usr/local/lib/python3.10/dist-packages (from requests->torchvision>=0.2.2->pytorch-fid) (2.0.7)\n",
            "Requirement already satisfied: certifi>=2017.4.17 in /usr/local/lib/python3.10/dist-packages (from requests->torchvision>=0.2.2->pytorch-fid) (2023.7.22)\n",
            "Requirement already satisfied: mpmath>=0.19 in /usr/local/lib/python3.10/dist-packages (from sympy->torch>=1.0.1->pytorch-fid) (1.3.0)\n"
          ]
        }
      ],
      "source": [
        "!pip install pytorch-fid\n"
      ],
      "id": "qUoYfnceHT1a"
    },
    {
      "cell_type": "code",
      "source": [
        "from PIL import Image\n",
        "import os\n",
        "\n",
        "def resize_images(input_folder, output_folder, size=(500, 500)):\n",
        "    # Ensure the output folder exists\n",
        "    if not os.path.exists(output_folder):\n",
        "        os.makedirs(output_folder)\n",
        "\n",
        "    # Loop through all files in the input folder\n",
        "    for filename in os.listdir(input_folder):\n",
        "        if filename.endswith(\".jpg\"):\n",
        "            # Open the image\n",
        "            img_path = os.path.join(input_folder, filename)\n",
        "            img = Image.open(img_path)\n",
        "\n",
        "            # Resize the image\n",
        "            resized_img = img.resize(size)\n",
        "\n",
        "            # Save the resized image to the output folder\n",
        "            output_path = os.path.join(output_folder, filename)\n",
        "            resized_img.save(output_path)\n",
        "\n",
        "\n",
        "input_path = \"/content/datasetflowers/flowers-102/jpg\"\n",
        "output_path = \"/content/datasetflowers/flowers-102/resized\"\n",
        "\n",
        "resize_images(input_path, output_path)\n"
      ],
      "metadata": {
        "id": "Uxc76qpYjlsw"
      },
      "id": "Uxc76qpYjlsw",
      "execution_count": 48,
      "outputs": []
    },
    {
      "cell_type": "code",
      "execution_count": 51,
      "metadata": {
        "colab": {
          "base_uri": "https://localhost:8080/"
        },
        "id": "uxIoEQYuJNyR",
        "outputId": "9492e298-bff3-476c-9d08-62ce72ec0f33"
      },
      "outputs": [
        {
          "output_type": "stream",
          "name": "stdout",
          "text": [
            "100% 164/164 [00:50<00:00,  3.24it/s]\n",
            "100% 4/4 [00:01<00:00,  2.52it/s]\n",
            "FID:  148.93198954200875\n"
          ]
        }
      ],
      "source": [
        "!python -m pytorch_fid /content/datasetflowers/flowers-102/resized /content/results --dims 64"
      ],
      "id": "uxIoEQYuJNyR"
    }
  ],
  "metadata": {
    "accelerator": "GPU",
    "colab": {
      "collapsed_sections": [
        "6fe49a34",
        "f70235f8"
      ],
      "provenance": []
    },
    "jupytext": {
      "cell_metadata_filter": "-all",
      "main_language": "python",
      "notebook_metadata_filter": "-all"
    },
    "kernelspec": {
      "display_name": "Python 3",
      "name": "python3"
    },
    "language_info": {
      "codemirror_mode": {
        "name": "ipython",
        "version": 3
      },
      "file_extension": ".py",
      "mimetype": "text/x-python",
      "name": "python",
      "nbconvert_exporter": "python",
      "pygments_lexer": "ipython3",
      "version": "3.10.8"
    },
    "widgets": {
      "application/vnd.jupyter.widget-state+json": {
        "8ca07107f0a94ca5aace1ba4a6f62878": {
          "model_module": "@jupyter-widgets/controls",
          "model_name": "HBoxModel",
          "model_module_version": "1.5.0",
          "state": {
            "_dom_classes": [],
            "_model_module": "@jupyter-widgets/controls",
            "_model_module_version": "1.5.0",
            "_model_name": "HBoxModel",
            "_view_count": null,
            "_view_module": "@jupyter-widgets/controls",
            "_view_module_version": "1.5.0",
            "_view_name": "HBoxView",
            "box_style": "",
            "children": [
              "IPY_MODEL_0b6b35249c4d4d899c839da9b7786dde",
              "IPY_MODEL_597097b223814283973662da8386934b",
              "IPY_MODEL_e4000341799b49e08e7739dfa23a34d2"
            ],
            "layout": "IPY_MODEL_ecde4693e6334224ae3bfdec0218e22d"
          }
        },
        "0b6b35249c4d4d899c839da9b7786dde": {
          "model_module": "@jupyter-widgets/controls",
          "model_name": "HTMLModel",
          "model_module_version": "1.5.0",
          "state": {
            "_dom_classes": [],
            "_model_module": "@jupyter-widgets/controls",
            "_model_module_version": "1.5.0",
            "_model_name": "HTMLModel",
            "_view_count": null,
            "_view_module": "@jupyter-widgets/controls",
            "_view_module_version": "1.5.0",
            "_view_name": "HTMLView",
            "description": "",
            "description_tooltip": null,
            "layout": "IPY_MODEL_cc9c5c25c5174e9ebc0240308c626e87",
            "placeholder": "​",
            "style": "IPY_MODEL_87bae29e2c0f486fac9df6da72b6e3fa",
            "value": "Resolving data files: 100%"
          }
        },
        "597097b223814283973662da8386934b": {
          "model_module": "@jupyter-widgets/controls",
          "model_name": "FloatProgressModel",
          "model_module_version": "1.5.0",
          "state": {
            "_dom_classes": [],
            "_model_module": "@jupyter-widgets/controls",
            "_model_module_version": "1.5.0",
            "_model_name": "FloatProgressModel",
            "_view_count": null,
            "_view_module": "@jupyter-widgets/controls",
            "_view_module_version": "1.5.0",
            "_view_name": "ProgressView",
            "bar_style": "success",
            "description": "",
            "description_tooltip": null,
            "layout": "IPY_MODEL_eba4a2a3abd1476aa2149aabeec7050d",
            "max": 16378,
            "min": 0,
            "orientation": "horizontal",
            "style": "IPY_MODEL_838823620af94bd8a2a6a507d700d8ae",
            "value": 16378
          }
        },
        "e4000341799b49e08e7739dfa23a34d2": {
          "model_module": "@jupyter-widgets/controls",
          "model_name": "HTMLModel",
          "model_module_version": "1.5.0",
          "state": {
            "_dom_classes": [],
            "_model_module": "@jupyter-widgets/controls",
            "_model_module_version": "1.5.0",
            "_model_name": "HTMLModel",
            "_view_count": null,
            "_view_module": "@jupyter-widgets/controls",
            "_view_module_version": "1.5.0",
            "_view_name": "HTMLView",
            "description": "",
            "description_tooltip": null,
            "layout": "IPY_MODEL_a71824f613e24413b0c353a62c978411",
            "placeholder": "​",
            "style": "IPY_MODEL_cefea56739024198a2aa0086451d5736",
            "value": " 16378/16378 [00:00&lt;00:00, 41585.19it/s]"
          }
        },
        "ecde4693e6334224ae3bfdec0218e22d": {
          "model_module": "@jupyter-widgets/base",
          "model_name": "LayoutModel",
          "model_module_version": "1.2.0",
          "state": {
            "_model_module": "@jupyter-widgets/base",
            "_model_module_version": "1.2.0",
            "_model_name": "LayoutModel",
            "_view_count": null,
            "_view_module": "@jupyter-widgets/base",
            "_view_module_version": "1.2.0",
            "_view_name": "LayoutView",
            "align_content": null,
            "align_items": null,
            "align_self": null,
            "border": null,
            "bottom": null,
            "display": null,
            "flex": null,
            "flex_flow": null,
            "grid_area": null,
            "grid_auto_columns": null,
            "grid_auto_flow": null,
            "grid_auto_rows": null,
            "grid_column": null,
            "grid_gap": null,
            "grid_row": null,
            "grid_template_areas": null,
            "grid_template_columns": null,
            "grid_template_rows": null,
            "height": null,
            "justify_content": null,
            "justify_items": null,
            "left": null,
            "margin": null,
            "max_height": null,
            "max_width": null,
            "min_height": null,
            "min_width": null,
            "object_fit": null,
            "object_position": null,
            "order": null,
            "overflow": null,
            "overflow_x": null,
            "overflow_y": null,
            "padding": null,
            "right": null,
            "top": null,
            "visibility": null,
            "width": null
          }
        },
        "cc9c5c25c5174e9ebc0240308c626e87": {
          "model_module": "@jupyter-widgets/base",
          "model_name": "LayoutModel",
          "model_module_version": "1.2.0",
          "state": {
            "_model_module": "@jupyter-widgets/base",
            "_model_module_version": "1.2.0",
            "_model_name": "LayoutModel",
            "_view_count": null,
            "_view_module": "@jupyter-widgets/base",
            "_view_module_version": "1.2.0",
            "_view_name": "LayoutView",
            "align_content": null,
            "align_items": null,
            "align_self": null,
            "border": null,
            "bottom": null,
            "display": null,
            "flex": null,
            "flex_flow": null,
            "grid_area": null,
            "grid_auto_columns": null,
            "grid_auto_flow": null,
            "grid_auto_rows": null,
            "grid_column": null,
            "grid_gap": null,
            "grid_row": null,
            "grid_template_areas": null,
            "grid_template_columns": null,
            "grid_template_rows": null,
            "height": null,
            "justify_content": null,
            "justify_items": null,
            "left": null,
            "margin": null,
            "max_height": null,
            "max_width": null,
            "min_height": null,
            "min_width": null,
            "object_fit": null,
            "object_position": null,
            "order": null,
            "overflow": null,
            "overflow_x": null,
            "overflow_y": null,
            "padding": null,
            "right": null,
            "top": null,
            "visibility": null,
            "width": null
          }
        },
        "87bae29e2c0f486fac9df6da72b6e3fa": {
          "model_module": "@jupyter-widgets/controls",
          "model_name": "DescriptionStyleModel",
          "model_module_version": "1.5.0",
          "state": {
            "_model_module": "@jupyter-widgets/controls",
            "_model_module_version": "1.5.0",
            "_model_name": "DescriptionStyleModel",
            "_view_count": null,
            "_view_module": "@jupyter-widgets/base",
            "_view_module_version": "1.2.0",
            "_view_name": "StyleView",
            "description_width": ""
          }
        },
        "eba4a2a3abd1476aa2149aabeec7050d": {
          "model_module": "@jupyter-widgets/base",
          "model_name": "LayoutModel",
          "model_module_version": "1.2.0",
          "state": {
            "_model_module": "@jupyter-widgets/base",
            "_model_module_version": "1.2.0",
            "_model_name": "LayoutModel",
            "_view_count": null,
            "_view_module": "@jupyter-widgets/base",
            "_view_module_version": "1.2.0",
            "_view_name": "LayoutView",
            "align_content": null,
            "align_items": null,
            "align_self": null,
            "border": null,
            "bottom": null,
            "display": null,
            "flex": null,
            "flex_flow": null,
            "grid_area": null,
            "grid_auto_columns": null,
            "grid_auto_flow": null,
            "grid_auto_rows": null,
            "grid_column": null,
            "grid_gap": null,
            "grid_row": null,
            "grid_template_areas": null,
            "grid_template_columns": null,
            "grid_template_rows": null,
            "height": null,
            "justify_content": null,
            "justify_items": null,
            "left": null,
            "margin": null,
            "max_height": null,
            "max_width": null,
            "min_height": null,
            "min_width": null,
            "object_fit": null,
            "object_position": null,
            "order": null,
            "overflow": null,
            "overflow_x": null,
            "overflow_y": null,
            "padding": null,
            "right": null,
            "top": null,
            "visibility": null,
            "width": null
          }
        },
        "838823620af94bd8a2a6a507d700d8ae": {
          "model_module": "@jupyter-widgets/controls",
          "model_name": "ProgressStyleModel",
          "model_module_version": "1.5.0",
          "state": {
            "_model_module": "@jupyter-widgets/controls",
            "_model_module_version": "1.5.0",
            "_model_name": "ProgressStyleModel",
            "_view_count": null,
            "_view_module": "@jupyter-widgets/base",
            "_view_module_version": "1.2.0",
            "_view_name": "StyleView",
            "bar_color": null,
            "description_width": ""
          }
        },
        "a71824f613e24413b0c353a62c978411": {
          "model_module": "@jupyter-widgets/base",
          "model_name": "LayoutModel",
          "model_module_version": "1.2.0",
          "state": {
            "_model_module": "@jupyter-widgets/base",
            "_model_module_version": "1.2.0",
            "_model_name": "LayoutModel",
            "_view_count": null,
            "_view_module": "@jupyter-widgets/base",
            "_view_module_version": "1.2.0",
            "_view_name": "LayoutView",
            "align_content": null,
            "align_items": null,
            "align_self": null,
            "border": null,
            "bottom": null,
            "display": null,
            "flex": null,
            "flex_flow": null,
            "grid_area": null,
            "grid_auto_columns": null,
            "grid_auto_flow": null,
            "grid_auto_rows": null,
            "grid_column": null,
            "grid_gap": null,
            "grid_row": null,
            "grid_template_areas": null,
            "grid_template_columns": null,
            "grid_template_rows": null,
            "height": null,
            "justify_content": null,
            "justify_items": null,
            "left": null,
            "margin": null,
            "max_height": null,
            "max_width": null,
            "min_height": null,
            "min_width": null,
            "object_fit": null,
            "object_position": null,
            "order": null,
            "overflow": null,
            "overflow_x": null,
            "overflow_y": null,
            "padding": null,
            "right": null,
            "top": null,
            "visibility": null,
            "width": null
          }
        },
        "cefea56739024198a2aa0086451d5736": {
          "model_module": "@jupyter-widgets/controls",
          "model_name": "DescriptionStyleModel",
          "model_module_version": "1.5.0",
          "state": {
            "_model_module": "@jupyter-widgets/controls",
            "_model_module_version": "1.5.0",
            "_model_name": "DescriptionStyleModel",
            "_view_count": null,
            "_view_module": "@jupyter-widgets/base",
            "_view_module_version": "1.2.0",
            "_view_name": "StyleView",
            "description_width": ""
          }
        },
        "331056ae262c4626802ce9eecd49d1c4": {
          "model_module": "@jupyter-widgets/controls",
          "model_name": "HBoxModel",
          "model_module_version": "1.5.0",
          "state": {
            "_dom_classes": [],
            "_model_module": "@jupyter-widgets/controls",
            "_model_module_version": "1.5.0",
            "_model_name": "HBoxModel",
            "_view_count": null,
            "_view_module": "@jupyter-widgets/controls",
            "_view_module_version": "1.5.0",
            "_view_name": "HBoxView",
            "box_style": "",
            "children": [
              "IPY_MODEL_c8b0a440cc5e42a7bc5daa628bc4f54f",
              "IPY_MODEL_32d3868e1e714343a4d7f399c9af6b51",
              "IPY_MODEL_957cce130ccc4a8a9ea1f76333f7ae2e"
            ],
            "layout": "IPY_MODEL_7c250a01587f43c7b9d83ed4b1e3e5ee"
          }
        },
        "c8b0a440cc5e42a7bc5daa628bc4f54f": {
          "model_module": "@jupyter-widgets/controls",
          "model_name": "HTMLModel",
          "model_module_version": "1.5.0",
          "state": {
            "_dom_classes": [],
            "_model_module": "@jupyter-widgets/controls",
            "_model_module_version": "1.5.0",
            "_model_name": "HTMLModel",
            "_view_count": null,
            "_view_module": "@jupyter-widgets/controls",
            "_view_module_version": "1.5.0",
            "_view_name": "HTMLView",
            "description": "",
            "description_tooltip": null,
            "layout": "IPY_MODEL_b0feb39db273496c87d2e4bdece2d7aa",
            "placeholder": "​",
            "style": "IPY_MODEL_4c7426f5de4344d8be78dacaf4709157",
            "value": "sampling loop time step: 100%"
          }
        },
        "32d3868e1e714343a4d7f399c9af6b51": {
          "model_module": "@jupyter-widgets/controls",
          "model_name": "FloatProgressModel",
          "model_module_version": "1.5.0",
          "state": {
            "_dom_classes": [],
            "_model_module": "@jupyter-widgets/controls",
            "_model_module_version": "1.5.0",
            "_model_name": "FloatProgressModel",
            "_view_count": null,
            "_view_module": "@jupyter-widgets/controls",
            "_view_module_version": "1.5.0",
            "_view_name": "ProgressView",
            "bar_style": "success",
            "description": "",
            "description_tooltip": null,
            "layout": "IPY_MODEL_6115a9b77c464bf8965edbe346534de8",
            "max": 200,
            "min": 0,
            "orientation": "horizontal",
            "style": "IPY_MODEL_1fe9200597864c21a923c08455ff982f",
            "value": 200
          }
        },
        "957cce130ccc4a8a9ea1f76333f7ae2e": {
          "model_module": "@jupyter-widgets/controls",
          "model_name": "HTMLModel",
          "model_module_version": "1.5.0",
          "state": {
            "_dom_classes": [],
            "_model_module": "@jupyter-widgets/controls",
            "_model_module_version": "1.5.0",
            "_model_name": "HTMLModel",
            "_view_count": null,
            "_view_module": "@jupyter-widgets/controls",
            "_view_module_version": "1.5.0",
            "_view_name": "HTMLView",
            "description": "",
            "description_tooltip": null,
            "layout": "IPY_MODEL_17dcd516acb14725aa015ea548855eb2",
            "placeholder": "​",
            "style": "IPY_MODEL_3342070e1c03445c9569534c39ba8aa4",
            "value": " 200/200 [00:53&lt;00:00,  4.22it/s]"
          }
        },
        "7c250a01587f43c7b9d83ed4b1e3e5ee": {
          "model_module": "@jupyter-widgets/base",
          "model_name": "LayoutModel",
          "model_module_version": "1.2.0",
          "state": {
            "_model_module": "@jupyter-widgets/base",
            "_model_module_version": "1.2.0",
            "_model_name": "LayoutModel",
            "_view_count": null,
            "_view_module": "@jupyter-widgets/base",
            "_view_module_version": "1.2.0",
            "_view_name": "LayoutView",
            "align_content": null,
            "align_items": null,
            "align_self": null,
            "border": null,
            "bottom": null,
            "display": null,
            "flex": null,
            "flex_flow": null,
            "grid_area": null,
            "grid_auto_columns": null,
            "grid_auto_flow": null,
            "grid_auto_rows": null,
            "grid_column": null,
            "grid_gap": null,
            "grid_row": null,
            "grid_template_areas": null,
            "grid_template_columns": null,
            "grid_template_rows": null,
            "height": null,
            "justify_content": null,
            "justify_items": null,
            "left": null,
            "margin": null,
            "max_height": null,
            "max_width": null,
            "min_height": null,
            "min_width": null,
            "object_fit": null,
            "object_position": null,
            "order": null,
            "overflow": null,
            "overflow_x": null,
            "overflow_y": null,
            "padding": null,
            "right": null,
            "top": null,
            "visibility": null,
            "width": null
          }
        },
        "b0feb39db273496c87d2e4bdece2d7aa": {
          "model_module": "@jupyter-widgets/base",
          "model_name": "LayoutModel",
          "model_module_version": "1.2.0",
          "state": {
            "_model_module": "@jupyter-widgets/base",
            "_model_module_version": "1.2.0",
            "_model_name": "LayoutModel",
            "_view_count": null,
            "_view_module": "@jupyter-widgets/base",
            "_view_module_version": "1.2.0",
            "_view_name": "LayoutView",
            "align_content": null,
            "align_items": null,
            "align_self": null,
            "border": null,
            "bottom": null,
            "display": null,
            "flex": null,
            "flex_flow": null,
            "grid_area": null,
            "grid_auto_columns": null,
            "grid_auto_flow": null,
            "grid_auto_rows": null,
            "grid_column": null,
            "grid_gap": null,
            "grid_row": null,
            "grid_template_areas": null,
            "grid_template_columns": null,
            "grid_template_rows": null,
            "height": null,
            "justify_content": null,
            "justify_items": null,
            "left": null,
            "margin": null,
            "max_height": null,
            "max_width": null,
            "min_height": null,
            "min_width": null,
            "object_fit": null,
            "object_position": null,
            "order": null,
            "overflow": null,
            "overflow_x": null,
            "overflow_y": null,
            "padding": null,
            "right": null,
            "top": null,
            "visibility": null,
            "width": null
          }
        },
        "4c7426f5de4344d8be78dacaf4709157": {
          "model_module": "@jupyter-widgets/controls",
          "model_name": "DescriptionStyleModel",
          "model_module_version": "1.5.0",
          "state": {
            "_model_module": "@jupyter-widgets/controls",
            "_model_module_version": "1.5.0",
            "_model_name": "DescriptionStyleModel",
            "_view_count": null,
            "_view_module": "@jupyter-widgets/base",
            "_view_module_version": "1.2.0",
            "_view_name": "StyleView",
            "description_width": ""
          }
        },
        "6115a9b77c464bf8965edbe346534de8": {
          "model_module": "@jupyter-widgets/base",
          "model_name": "LayoutModel",
          "model_module_version": "1.2.0",
          "state": {
            "_model_module": "@jupyter-widgets/base",
            "_model_module_version": "1.2.0",
            "_model_name": "LayoutModel",
            "_view_count": null,
            "_view_module": "@jupyter-widgets/base",
            "_view_module_version": "1.2.0",
            "_view_name": "LayoutView",
            "align_content": null,
            "align_items": null,
            "align_self": null,
            "border": null,
            "bottom": null,
            "display": null,
            "flex": null,
            "flex_flow": null,
            "grid_area": null,
            "grid_auto_columns": null,
            "grid_auto_flow": null,
            "grid_auto_rows": null,
            "grid_column": null,
            "grid_gap": null,
            "grid_row": null,
            "grid_template_areas": null,
            "grid_template_columns": null,
            "grid_template_rows": null,
            "height": null,
            "justify_content": null,
            "justify_items": null,
            "left": null,
            "margin": null,
            "max_height": null,
            "max_width": null,
            "min_height": null,
            "min_width": null,
            "object_fit": null,
            "object_position": null,
            "order": null,
            "overflow": null,
            "overflow_x": null,
            "overflow_y": null,
            "padding": null,
            "right": null,
            "top": null,
            "visibility": null,
            "width": null
          }
        },
        "1fe9200597864c21a923c08455ff982f": {
          "model_module": "@jupyter-widgets/controls",
          "model_name": "ProgressStyleModel",
          "model_module_version": "1.5.0",
          "state": {
            "_model_module": "@jupyter-widgets/controls",
            "_model_module_version": "1.5.0",
            "_model_name": "ProgressStyleModel",
            "_view_count": null,
            "_view_module": "@jupyter-widgets/base",
            "_view_module_version": "1.2.0",
            "_view_name": "StyleView",
            "bar_color": null,
            "description_width": ""
          }
        },
        "17dcd516acb14725aa015ea548855eb2": {
          "model_module": "@jupyter-widgets/base",
          "model_name": "LayoutModel",
          "model_module_version": "1.2.0",
          "state": {
            "_model_module": "@jupyter-widgets/base",
            "_model_module_version": "1.2.0",
            "_model_name": "LayoutModel",
            "_view_count": null,
            "_view_module": "@jupyter-widgets/base",
            "_view_module_version": "1.2.0",
            "_view_name": "LayoutView",
            "align_content": null,
            "align_items": null,
            "align_self": null,
            "border": null,
            "bottom": null,
            "display": null,
            "flex": null,
            "flex_flow": null,
            "grid_area": null,
            "grid_auto_columns": null,
            "grid_auto_flow": null,
            "grid_auto_rows": null,
            "grid_column": null,
            "grid_gap": null,
            "grid_row": null,
            "grid_template_areas": null,
            "grid_template_columns": null,
            "grid_template_rows": null,
            "height": null,
            "justify_content": null,
            "justify_items": null,
            "left": null,
            "margin": null,
            "max_height": null,
            "max_width": null,
            "min_height": null,
            "min_width": null,
            "object_fit": null,
            "object_position": null,
            "order": null,
            "overflow": null,
            "overflow_x": null,
            "overflow_y": null,
            "padding": null,
            "right": null,
            "top": null,
            "visibility": null,
            "width": null
          }
        },
        "3342070e1c03445c9569534c39ba8aa4": {
          "model_module": "@jupyter-widgets/controls",
          "model_name": "DescriptionStyleModel",
          "model_module_version": "1.5.0",
          "state": {
            "_model_module": "@jupyter-widgets/controls",
            "_model_module_version": "1.5.0",
            "_model_name": "DescriptionStyleModel",
            "_view_count": null,
            "_view_module": "@jupyter-widgets/base",
            "_view_module_version": "1.2.0",
            "_view_name": "StyleView",
            "description_width": ""
          }
        }
      }
    }
  },
  "nbformat": 4,
  "nbformat_minor": 5
}