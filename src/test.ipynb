{
 "cells": [
  {
   "cell_type": "code",
   "execution_count": null,
   "id": "bcfc8984-8c97-4736-98b3-0bf10898c653",
   "metadata": {},
   "outputs": [],
   "source": [
    "#Testing for flowers\n",
    "input_path = 'datasetflowers/flowers-102/jpg'   \n",
    "output_path = 'datasetflowers/flowers-102/resized'\n",
    "\n",
    "#Testing for celebA\n",
    "\n",
    "# input_path = \"datasetCeleb/celeba/jpg\"   \n",
    "# output_path = \"datasetCeleb/celeba/resized\""
   ]
  },
  {
   "cell_type": "code",
   "execution_count": null,
   "id": "492e6e7e-e804-47be-8fa2-d9f0853bb3e0",
   "metadata": {},
   "outputs": [],
   "source": [
    "!pip install pytorch-fid"
   ]
  },
  {
   "cell_type": "code",
   "execution_count": null,
   "id": "8f7577bc-f5d8-4f7d-a15d-0ea821e264da",
   "metadata": {},
   "outputs": [],
   "source": [
    "import torchvision\n",
    "from torchvision.datasets import ImageFolder\n",
    "import torch\n",
    "from torchvision import transforms, datasets\n",
    "import matplotlib.pyplot as plt"
   ]
  },
  {
   "cell_type": "code",
   "execution_count": null,
   "id": "d310a064-c7be-49a4-8088-1ded5181b51e",
   "metadata": {},
   "outputs": [],
   "source": [
    "from PIL import Image\n",
    "import os\n",
    "\n",
    "def resize_images(input_folder, output_folder, size=(500, 500)):\n",
    "    # Ensure the output folder exists\n",
    "    if not os.path.exists(output_folder):\n",
    "        os.makedirs(output_folder)\n",
    "\n",
    "    # Loop through all files in the input folder\n",
    "    for filename in os.listdir(input_folder):\n",
    "        if filename.endswith(\".jpg\"):\n",
    "            # Open the image\n",
    "            img_path = os.path.join(input_folder, filename)\n",
    "            img = Image.open(img_path)\n",
    "\n",
    "            # Resize the image\n",
    "            resized_img = img.resize(size)\n",
    "\n",
    "            # Save the resized image to the output folder\n",
    "            output_path = os.path.join(output_folder, filename)\n",
    "            resized_img.save(output_path)\n",
    "\n",
    "\n",
    "\n",
    "\n",
    "resize_images(input_path, output_path)"
   ]
  },
  {
   "cell_type": "code",
   "execution_count": null,
   "id": "1555ad95-c37e-4686-8b16-a9d5bcebd446",
   "metadata": {},
   "outputs": [],
   "source": [
    "!python -m pytorch_fid datasetflowers/flowers-102/resized results --dims 64"
   ]
  },
  {
   "cell_type": "code",
   "execution_count": null,
   "id": "8e7e9ac7-ad2f-43e7-86fc-f69bfc515738",
   "metadata": {},
   "outputs": [],
   "source": []
  }
 ],
 "metadata": {
  "kernelspec": {
   "display_name": "Python 3 (ipykernel)",
   "language": "python",
   "name": "python3"
  },
  "language_info": {
   "codemirror_mode": {
    "name": "ipython",
    "version": 3
   },
   "file_extension": ".py",
   "mimetype": "text/x-python",
   "name": "python",
   "nbconvert_exporter": "python",
   "pygments_lexer": "ipython3",
   "version": "3.11.6"
  }
 },
 "nbformat": 4,
 "nbformat_minor": 5
}
